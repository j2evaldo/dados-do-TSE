{
 "cells": [
  {
   "cell_type": "markdown",
   "metadata": {},
   "source": [
    "# **OBJETIVO**\n",
    "\n",
    "Uma das coisas mais legais que temos no Brasil é o acesso a dados disponibilizados por fontes oficiais. \n",
    "\n",
    "Com todos os desafios que nosso país enfrenta, qualquer pessoa com um pouco de boa vontade pode ter acesso a um grande número de datasets que podem servir como fonte de estudo e até mesmo uma importante fonte de informação independente sobre os mais variados assuntos de nosso país. \n",
    "\n",
    "O portal brasileiro de dados abertos é sem dúvida alguma um grande parque de diversões para quem gosta de analisar dados. \n",
    "\n",
    "Neste Notebook resolvi pegar os dados dos candidatos às eleições do ano de 2022. O foco central foram os candidatos à Presidência da República e Deputado Federal. \n"
   ]
  },
  {
   "cell_type": "code",
   "execution_count": 1,
   "metadata": {},
   "outputs": [],
   "source": [
    "import pandas as pd\n",
    "import os\n",
    "from zipfile import ZipFile\n",
    "import seaborn as sns\n",
    "import matplotlib.pyplot as plt\n",
    "\n",
    "import warnings\n",
    "warnings.filterwarnings('ignore')\n",
    "\n",
    "pasta_atual = os.getcwd()\n",
    "\n",
    "sns.set()\n",
    "\n"
   ]
  },
  {
   "cell_type": "code",
   "execution_count": 2,
   "metadata": {},
   "outputs": [],
   "source": [
    "# temp = pd.read_csv('bem_candidato_2022_BRASIL.csv', encoding= 'ISO-8859-1', sep = ';', nrows = 1)\n",
    "# temp.columns"
   ]
  },
  {
   "cell_type": "code",
   "execution_count": 3,
   "metadata": {},
   "outputs": [],
   "source": [
    "# dados = []\n",
    "\n",
    "# for i in os.listdir():\n",
    "#     if i == '.ipynb_checkpoints' or i =='eleicoes.ipynb':\n",
    "#         pass\n",
    "#     else:\n",
    "#         temp = ZipFile(i)\n",
    "#         temp1 = temp.extractall()\n"
   ]
  },
  {
   "cell_type": "markdown",
   "metadata": {},
   "source": [
    "## 1.0.**IMPORTANDO OS DADOS**\n",
    "\n",
    "Antes de importar os dados para o Jupyter li o conteúdo do dicionário que é disponibilizado junto a pasta de dados que você tem acesso logo que faz o download  no site do Portal Brasileiro de dados abertos.\n",
    "\n",
    "Neste dicionário, temos acesso  a descrição de todas as colunas e ao tipo de dado contido em cada uma. \n",
    "\n",
    "Com ele também é possível fazer uma avaliação de que colunas são mais importantes para o estudo que queremos analisar. \n"
   ]
  },
  {
   "cell_type": "code",
   "execution_count": 4,
   "metadata": {},
   "outputs": [],
   "source": [
    "temp = ['SQ_CANDIDATO','NM_CANDIDATO', 'NM_TIPO_ELEICAO', 'SG_UE', 'DS_CARGO', 'DS_SITUACAO_CANDIDATURA', \\\n",
    "        'SG_PARTIDO', 'SG_PARTIDO', 'DS_NACIONALIDADE', 'DS_ESTADO_CIVIL','DS_GENERO', 'DS_GRAU_INSTRUCAO','DS_COR_RACA']\n",
    "        \n",
    "bens = ['SQ_CANDIDATO','ANO_ELEICAO', 'NM_UE', 'NM_UE', 'DS_TIPO_BEM_CANDIDATO', 'VR_BEM_CANDIDATO']\n",
    "\n",
    "df = pd.read_csv('bem_candidato_2022_BRASIL.csv', encoding= 'ISO-8859-1', sep = ';', usecols= bens)\n",
    "df1 = pd.read_csv('consulta_cand_2022_BRASIL.csv', encoding= 'ISO-8859-1', sep = ';', usecols= temp)"
   ]
  },
  {
   "cell_type": "code",
   "execution_count": null,
   "metadata": {},
   "outputs": [],
   "source": []
  },
  {
   "cell_type": "code",
   "execution_count": 5,
   "metadata": {},
   "outputs": [
    {
     "data": {
      "text/html": [
       "<div>\n",
       "<style scoped>\n",
       "    .dataframe tbody tr th:only-of-type {\n",
       "        vertical-align: middle;\n",
       "    }\n",
       "\n",
       "    .dataframe tbody tr th {\n",
       "        vertical-align: top;\n",
       "    }\n",
       "\n",
       "    .dataframe thead th {\n",
       "        text-align: right;\n",
       "    }\n",
       "</style>\n",
       "<table border=\"1\" class=\"dataframe\">\n",
       "  <thead>\n",
       "    <tr style=\"text-align: right;\">\n",
       "      <th></th>\n",
       "      <th>NM_TIPO_ELEICAO</th>\n",
       "      <th>SG_UE</th>\n",
       "      <th>DS_CARGO</th>\n",
       "      <th>SQ_CANDIDATO</th>\n",
       "      <th>NM_CANDIDATO</th>\n",
       "      <th>DS_SITUACAO_CANDIDATURA</th>\n",
       "      <th>SG_PARTIDO</th>\n",
       "      <th>DS_NACIONALIDADE</th>\n",
       "      <th>DS_GENERO</th>\n",
       "      <th>DS_GRAU_INSTRUCAO</th>\n",
       "      <th>DS_ESTADO_CIVIL</th>\n",
       "      <th>DS_COR_RACA</th>\n",
       "    </tr>\n",
       "  </thead>\n",
       "  <tbody>\n",
       "    <tr>\n",
       "      <th>0</th>\n",
       "      <td>ELEIÇÃO ORDINÁRIA</td>\n",
       "      <td>AP</td>\n",
       "      <td>DEPUTADO ESTADUAL</td>\n",
       "      <td>30001640009</td>\n",
       "      <td>FRANCILENE LOBO MARTINS NASCIMENTO</td>\n",
       "      <td>CADASTRADO</td>\n",
       "      <td>CIDADANIA</td>\n",
       "      <td>BRASILEIRA NATA</td>\n",
       "      <td>FEMININO</td>\n",
       "      <td>SUPERIOR COMPLETO</td>\n",
       "      <td>CASADO(A)</td>\n",
       "      <td>PRETA</td>\n",
       "    </tr>\n",
       "    <tr>\n",
       "      <th>1</th>\n",
       "      <td>ELEIÇÃO ORDINÁRIA</td>\n",
       "      <td>PE</td>\n",
       "      <td>DEPUTADO ESTADUAL</td>\n",
       "      <td>170001620393</td>\n",
       "      <td>FRANCISMAR MENDES PONTES</td>\n",
       "      <td>CADASTRADO</td>\n",
       "      <td>PSB</td>\n",
       "      <td>BRASILEIRA NATA</td>\n",
       "      <td>MASCULINO</td>\n",
       "      <td>SUPERIOR COMPLETO</td>\n",
       "      <td>CASADO(A)</td>\n",
       "      <td>BRANCA</td>\n",
       "    </tr>\n",
       "    <tr>\n",
       "      <th>2</th>\n",
       "      <td>ELEIÇÃO ORDINÁRIA</td>\n",
       "      <td>SP</td>\n",
       "      <td>DEPUTADO FEDERAL</td>\n",
       "      <td>250001622077</td>\n",
       "      <td>GEFFERSON LUIS DE SOUSA ROSA</td>\n",
       "      <td>CADASTRADO</td>\n",
       "      <td>AVANTE</td>\n",
       "      <td>BRASILEIRA NATA</td>\n",
       "      <td>MASCULINO</td>\n",
       "      <td>SUPERIOR COMPLETO</td>\n",
       "      <td>CASADO(A)</td>\n",
       "      <td>BRANCA</td>\n",
       "    </tr>\n",
       "    <tr>\n",
       "      <th>3</th>\n",
       "      <td>ELEIÇÃO ORDINÁRIA</td>\n",
       "      <td>PR</td>\n",
       "      <td>DEPUTADO FEDERAL</td>\n",
       "      <td>160001654838</td>\n",
       "      <td>PAULO CESAR ROSSI</td>\n",
       "      <td>CADASTRADO</td>\n",
       "      <td>REPUBLICANOS</td>\n",
       "      <td>BRASILEIRA NATA</td>\n",
       "      <td>MASCULINO</td>\n",
       "      <td>SUPERIOR COMPLETO</td>\n",
       "      <td>DIVORCIADO(A)</td>\n",
       "      <td>PARDA</td>\n",
       "    </tr>\n",
       "    <tr>\n",
       "      <th>4</th>\n",
       "      <td>ELEIÇÃO ORDINÁRIA</td>\n",
       "      <td>MG</td>\n",
       "      <td>DEPUTADO FEDERAL</td>\n",
       "      <td>130001615458</td>\n",
       "      <td>ALBERT DENIS REIS DA SILVA</td>\n",
       "      <td>CADASTRADO</td>\n",
       "      <td>PP</td>\n",
       "      <td>BRASILEIRA NATA</td>\n",
       "      <td>MASCULINO</td>\n",
       "      <td>SUPERIOR COMPLETO</td>\n",
       "      <td>SOLTEIRO(A)</td>\n",
       "      <td>PARDA</td>\n",
       "    </tr>\n",
       "  </tbody>\n",
       "</table>\n",
       "</div>"
      ],
      "text/plain": [
       "     NM_TIPO_ELEICAO SG_UE           DS_CARGO  SQ_CANDIDATO  \\\n",
       "0  ELEIÇÃO ORDINÁRIA    AP  DEPUTADO ESTADUAL   30001640009   \n",
       "1  ELEIÇÃO ORDINÁRIA    PE  DEPUTADO ESTADUAL  170001620393   \n",
       "2  ELEIÇÃO ORDINÁRIA    SP   DEPUTADO FEDERAL  250001622077   \n",
       "3  ELEIÇÃO ORDINÁRIA    PR   DEPUTADO FEDERAL  160001654838   \n",
       "4  ELEIÇÃO ORDINÁRIA    MG   DEPUTADO FEDERAL  130001615458   \n",
       "\n",
       "                         NM_CANDIDATO DS_SITUACAO_CANDIDATURA    SG_PARTIDO  \\\n",
       "0  FRANCILENE LOBO MARTINS NASCIMENTO              CADASTRADO     CIDADANIA   \n",
       "1            FRANCISMAR MENDES PONTES              CADASTRADO           PSB   \n",
       "2        GEFFERSON LUIS DE SOUSA ROSA              CADASTRADO        AVANTE   \n",
       "3                   PAULO CESAR ROSSI              CADASTRADO  REPUBLICANOS   \n",
       "4          ALBERT DENIS REIS DA SILVA              CADASTRADO            PP   \n",
       "\n",
       "  DS_NACIONALIDADE  DS_GENERO  DS_GRAU_INSTRUCAO DS_ESTADO_CIVIL DS_COR_RACA  \n",
       "0  BRASILEIRA NATA   FEMININO  SUPERIOR COMPLETO       CASADO(A)       PRETA  \n",
       "1  BRASILEIRA NATA  MASCULINO  SUPERIOR COMPLETO       CASADO(A)      BRANCA  \n",
       "2  BRASILEIRA NATA  MASCULINO  SUPERIOR COMPLETO       CASADO(A)      BRANCA  \n",
       "3  BRASILEIRA NATA  MASCULINO  SUPERIOR COMPLETO   DIVORCIADO(A)       PARDA  \n",
       "4  BRASILEIRA NATA  MASCULINO  SUPERIOR COMPLETO     SOLTEIRO(A)       PARDA  "
      ]
     },
     "execution_count": 5,
     "metadata": {},
     "output_type": "execute_result"
    }
   ],
   "source": [
    "df1.head()"
   ]
  },
  {
   "cell_type": "markdown",
   "metadata": {},
   "source": [
    "## 1.1.**SITUAÇÃO DOS CANDIDATOS**\n",
    "\n",
    ">Selecionei apenas candidatos que estavam aptos ou cadastrados. \n",
    "\n",
    "Existem candidatos que estão com status de inapto. Pelo sim pelo não, resolvi não perder tempo tentando entender o porquê da situação e acabei filtrando apenas os candidatos que estão com statos de `Apto` ou `Cadastrado`\n"
   ]
  },
  {
   "cell_type": "code",
   "execution_count": 6,
   "metadata": {},
   "outputs": [
    {
     "name": "stdout",
     "output_type": "stream",
     "text": [
      "\n",
      "CADASTRADO    91.0\n",
      "APTO           8.0\n",
      "INAPTO         1.0\n",
      "Name: DS_SITUACAO_CANDIDATURA, dtype: float64\n",
      "\n"
     ]
    },
    {
     "data": {
      "image/png": "[encoded data removed]",
      "text/plain": [
       "<Figure size 1080x360 with 1 Axes>"
      ]
     },
     "metadata": {},
     "output_type": "display_data"
    }
   ],
   "source": [
    "print()\n",
    "print(round(df1['DS_SITUACAO_CANDIDATURA'].value_counts(normalize = True),2) *100 )\n",
    "print()\n",
    "\n",
    "df1['DS_SITUACAO_CANDIDATURA'].value_counts().plot(kind = 'bar', figsize = (15,5))\n",
    "plt.title('Tipo de Candidatura',  fontdict={'fontsize':30});"
   ]
  },
  {
   "cell_type": "code",
   "execution_count": 7,
   "metadata": {},
   "outputs": [],
   "source": [
    "df1 = df1.query('DS_SITUACAO_CANDIDATURA == \"APTO\" or DS_SITUACAO_CANDIDATURA == \"CADASTRADO\"')"
   ]
  },
  {
   "cell_type": "code",
   "execution_count": 8,
   "metadata": {},
   "outputs": [
    {
     "data": {
      "text/plain": [
       "DEPUTADO ESTADUAL     16387\n",
       "DEPUTADO FEDERAL      10365\n",
       "DEPUTADO DISTRITAL      588\n",
       "SENADOR                 233\n",
       "2º SUPLENTE             233\n",
       "1º SUPLENTE             233\n",
       "VICE-GOVERNADOR         225\n",
       "GOVERNADOR              223\n",
       "VICE-PRESIDENTE          12\n",
       "PRESIDENTE               12\n",
       "Name: DS_CARGO, dtype: int64"
      ]
     },
     "execution_count": 8,
     "metadata": {},
     "output_type": "execute_result"
    }
   ],
   "source": [
    "df1['DS_CARGO'].value_counts()"
   ]
  },
  {
   "cell_type": "markdown",
   "metadata": {},
   "source": [
    "# 2.0.**CANDIDATOS A PRESIDENTE**"
   ]
  },
  {
   "cell_type": "code",
   "execution_count": 9,
   "metadata": {},
   "outputs": [
    {
     "name": "stdout",
     "output_type": "stream",
     "text": [
      "\n",
      "PRESIDENTE    12\n",
      "Name: DS_CARGO, dtype: int64\n",
      "\n"
     ]
    },
    {
     "data": {
      "text/html": [
       "<div>\n",
       "<style scoped>\n",
       "    .dataframe tbody tr th:only-of-type {\n",
       "        vertical-align: middle;\n",
       "    }\n",
       "\n",
       "    .dataframe tbody tr th {\n",
       "        vertical-align: top;\n",
       "    }\n",
       "\n",
       "    .dataframe thead th {\n",
       "        text-align: right;\n",
       "    }\n",
       "</style>\n",
       "<table border=\"1\" class=\"dataframe\">\n",
       "  <thead>\n",
       "    <tr style=\"text-align: right;\">\n",
       "      <th></th>\n",
       "      <th>NM_CANDIDATO</th>\n",
       "      <th>SG_PARTIDO</th>\n",
       "    </tr>\n",
       "  </thead>\n",
       "  <tbody>\n",
       "    <tr>\n",
       "      <th>10035</th>\n",
       "      <td>CIRO FERREIRA GOMES</td>\n",
       "      <td>PDT</td>\n",
       "    </tr>\n",
       "    <tr>\n",
       "      <th>24178</th>\n",
       "      <td>JAIR MESSIAS BOLSONARO</td>\n",
       "      <td>PL</td>\n",
       "    </tr>\n",
       "    <tr>\n",
       "      <th>19534</th>\n",
       "      <td>JOSE MARIA EYMAEL</td>\n",
       "      <td>DC</td>\n",
       "    </tr>\n",
       "    <tr>\n",
       "      <th>27385</th>\n",
       "      <td>LEONARDO PÉRICLES VIEIRA ROQUE</td>\n",
       "      <td>UP</td>\n",
       "    </tr>\n",
       "    <tr>\n",
       "      <th>6568</th>\n",
       "      <td>LUIZ FELIPE CHAVES D AVILA</td>\n",
       "      <td>NOVO</td>\n",
       "    </tr>\n",
       "    <tr>\n",
       "      <th>19134</th>\n",
       "      <td>LUIZ INÁCIO LULA DA SILVA</td>\n",
       "      <td>PT</td>\n",
       "    </tr>\n",
       "    <tr>\n",
       "      <th>2652</th>\n",
       "      <td>PABLO HENRIQUE COSTA MARÇAL</td>\n",
       "      <td>PROS</td>\n",
       "    </tr>\n",
       "    <tr>\n",
       "      <th>16550</th>\n",
       "      <td>ROBERTO JEFFERSON MONTEIRO FRANCISCO</td>\n",
       "      <td>PTB</td>\n",
       "    </tr>\n",
       "    <tr>\n",
       "      <th>10281</th>\n",
       "      <td>SIMONE NASSAR TEBET</td>\n",
       "      <td>MDB</td>\n",
       "    </tr>\n",
       "    <tr>\n",
       "      <th>2031</th>\n",
       "      <td>SOFIA PADUA MANZANO</td>\n",
       "      <td>PCB</td>\n",
       "    </tr>\n",
       "    <tr>\n",
       "      <th>7484</th>\n",
       "      <td>SORAYA VIEIRA THRONICKE</td>\n",
       "      <td>UNIÃO</td>\n",
       "    </tr>\n",
       "    <tr>\n",
       "      <th>28610</th>\n",
       "      <td>VERA LUCIA PEREIRA DA SILVA SALGADO</td>\n",
       "      <td>PSTU</td>\n",
       "    </tr>\n",
       "  </tbody>\n",
       "</table>\n",
       "</div>"
      ],
      "text/plain": [
       "                               NM_CANDIDATO SG_PARTIDO\n",
       "10035                   CIRO FERREIRA GOMES        PDT\n",
       "24178                JAIR MESSIAS BOLSONARO         PL\n",
       "19534                     JOSE MARIA EYMAEL         DC\n",
       "27385        LEONARDO PÉRICLES VIEIRA ROQUE         UP\n",
       "6568             LUIZ FELIPE CHAVES D AVILA       NOVO\n",
       "19134             LUIZ INÁCIO LULA DA SILVA         PT\n",
       "2652            PABLO HENRIQUE COSTA MARÇAL       PROS\n",
       "16550  ROBERTO JEFFERSON MONTEIRO FRANCISCO        PTB\n",
       "10281                   SIMONE NASSAR TEBET        MDB\n",
       "2031                    SOFIA PADUA MANZANO        PCB\n",
       "7484                SORAYA VIEIRA THRONICKE      UNIÃO\n",
       "28610   VERA LUCIA PEREIRA DA SILVA SALGADO       PSTU"
      ]
     },
     "execution_count": 9,
     "metadata": {},
     "output_type": "execute_result"
    }
   ],
   "source": [
    "print()\n",
    "presidente = df1.query('DS_CARGO == \"PRESIDENTE\"')\n",
    "print(presidente['DS_CARGO'].value_counts())\n",
    "print()\n",
    "\n",
    "df1.query('DS_CARGO == \"PRESIDENTE\"')[['NM_CANDIDATO','SG_PARTIDO']].sort_values(by = 'NM_CANDIDATO')"
   ]
  },
  {
   "cell_type": "markdown",
   "metadata": {},
   "source": [
    "### 2.1.**GRAU DE INSTRUÇÃO DOS CANDIDATOS**\n",
    "\n",
    "Nota-se que a grande quantidade dos candidatos possui ensino superior. Isso pode indicar que a qualidade dos governos tende a melhorar por conta do maior grau instrução."
   ]
  },
  {
   "cell_type": "code",
   "execution_count": 10,
   "metadata": {},
   "outputs": [
    {
     "data": {
      "text/plain": [
       "SUPERIOR COMPLETO              10\n",
       "ENSINO FUNDAMENTAL COMPLETO     1\n",
       "ENSINO MÉDIO COMPLETO           1\n",
       "Name: DS_GRAU_INSTRUCAO, dtype: int64"
      ]
     },
     "execution_count": 10,
     "metadata": {},
     "output_type": "execute_result"
    }
   ],
   "source": [
    "presidente['DS_GRAU_INSTRUCAO'].value_counts()"
   ]
  },
  {
   "cell_type": "markdown",
   "metadata": {},
   "source": [
    "### 2.2.**SUPERIOR COMPLETO**"
   ]
  },
  {
   "cell_type": "code",
   "execution_count": 11,
   "metadata": {},
   "outputs": [
    {
     "data": {
      "text/plain": [
       "10035                     CIRO FERREIRA GOMES\n",
       "24178                  JAIR MESSIAS BOLSONARO\n",
       "19534                       JOSE MARIA EYMAEL\n",
       "6568               LUIZ FELIPE CHAVES D AVILA\n",
       "2652              PABLO HENRIQUE COSTA MARÇAL\n",
       "16550    ROBERTO JEFFERSON MONTEIRO FRANCISCO\n",
       "10281                     SIMONE NASSAR TEBET\n",
       "2031                      SOFIA PADUA MANZANO\n",
       "7484                  SORAYA VIEIRA THRONICKE\n",
       "28610     VERA LUCIA PEREIRA DA SILVA SALGADO\n",
       "Name: NM_CANDIDATO, dtype: object"
      ]
     },
     "execution_count": 11,
     "metadata": {},
     "output_type": "execute_result"
    }
   ],
   "source": [
    "presidente.query('DS_GRAU_INSTRUCAO == \"SUPERIOR COMPLETO\"')['NM_CANDIDATO'].sort_values()"
   ]
  },
  {
   "cell_type": "markdown",
   "metadata": {},
   "source": [
    "### 2.3.**ENSINO FUNDAMENTAL COMPLETO**"
   ]
  },
  {
   "cell_type": "code",
   "execution_count": 12,
   "metadata": {},
   "outputs": [
    {
     "data": {
      "text/plain": [
       "19134    LUIZ INÁCIO LULA DA SILVA\n",
       "Name: NM_CANDIDATO, dtype: object"
      ]
     },
     "execution_count": 12,
     "metadata": {},
     "output_type": "execute_result"
    }
   ],
   "source": [
    "presidente.query('DS_GRAU_INSTRUCAO == \"ENSINO FUNDAMENTAL COMPLETO\"')['NM_CANDIDATO']"
   ]
  },
  {
   "cell_type": "markdown",
   "metadata": {},
   "source": [
    "### 2.4.**ENSINO MÉDIO COMPLETO**"
   ]
  },
  {
   "cell_type": "code",
   "execution_count": 13,
   "metadata": {},
   "outputs": [
    {
     "data": {
      "text/plain": [
       "27385    LEONARDO PÉRICLES VIEIRA ROQUE\n",
       "Name: NM_CANDIDATO, dtype: object"
      ]
     },
     "execution_count": 13,
     "metadata": {},
     "output_type": "execute_result"
    }
   ],
   "source": [
    "presidente.query('DS_GRAU_INSTRUCAO == \"ENSINO MÉDIO COMPLETO\"')['NM_CANDIDATO']"
   ]
  },
  {
   "cell_type": "markdown",
   "metadata": {},
   "source": [
    "### 2.5.**BENS DOS CANDIDATOS**\n",
    "\n",
    "Para verificar os bens dos candidatos, acabei tendo que fazer um merge entre as duas tabelas. \n",
    "\n",
    "Com estes dados consegui tambem identificar o tipo de aplicação financeira que cada candidato declarou. "
   ]
  },
  {
   "cell_type": "code",
   "execution_count": 14,
   "metadata": {},
   "outputs": [],
   "source": [
    "patrimonio = presidente.merge(df, how = 'left')"
   ]
  },
  {
   "cell_type": "code",
   "execution_count": 15,
   "metadata": {},
   "outputs": [
    {
     "data": {
      "text/html": [
       "<div>\n",
       "<style scoped>\n",
       "    .dataframe tbody tr th:only-of-type {\n",
       "        vertical-align: middle;\n",
       "    }\n",
       "\n",
       "    .dataframe tbody tr th {\n",
       "        vertical-align: top;\n",
       "    }\n",
       "\n",
       "    .dataframe thead th {\n",
       "        text-align: right;\n",
       "    }\n",
       "</style>\n",
       "<table border=\"1\" class=\"dataframe\">\n",
       "  <thead>\n",
       "    <tr style=\"text-align: right;\">\n",
       "      <th></th>\n",
       "      <th>NM_TIPO_ELEICAO</th>\n",
       "      <th>SG_UE</th>\n",
       "      <th>DS_CARGO</th>\n",
       "      <th>SQ_CANDIDATO</th>\n",
       "      <th>NM_CANDIDATO</th>\n",
       "      <th>DS_SITUACAO_CANDIDATURA</th>\n",
       "      <th>SG_PARTIDO</th>\n",
       "      <th>DS_NACIONALIDADE</th>\n",
       "      <th>DS_GENERO</th>\n",
       "      <th>DS_GRAU_INSTRUCAO</th>\n",
       "      <th>DS_ESTADO_CIVIL</th>\n",
       "      <th>DS_COR_RACA</th>\n",
       "      <th>ANO_ELEICAO</th>\n",
       "      <th>NM_UE</th>\n",
       "      <th>DS_TIPO_BEM_CANDIDATO</th>\n",
       "      <th>VR_BEM_CANDIDATO</th>\n",
       "    </tr>\n",
       "  </thead>\n",
       "  <tbody>\n",
       "    <tr>\n",
       "      <th>0</th>\n",
       "      <td>ELEIÇÃO ORDINÁRIA</td>\n",
       "      <td>BR</td>\n",
       "      <td>PRESIDENTE</td>\n",
       "      <td>280001600167</td>\n",
       "      <td>SOFIA PADUA MANZANO</td>\n",
       "      <td>APTO</td>\n",
       "      <td>PCB</td>\n",
       "      <td>BRASILEIRA NATA</td>\n",
       "      <td>FEMININO</td>\n",
       "      <td>SUPERIOR COMPLETO</td>\n",
       "      <td>SOLTEIRO(A)</td>\n",
       "      <td>BRANCA</td>\n",
       "      <td>2022</td>\n",
       "      <td>BRASIL</td>\n",
       "      <td>Caderneta de poupança</td>\n",
       "      <td>4000,00</td>\n",
       "    </tr>\n",
       "    <tr>\n",
       "      <th>1</th>\n",
       "      <td>ELEIÇÃO ORDINÁRIA</td>\n",
       "      <td>BR</td>\n",
       "      <td>PRESIDENTE</td>\n",
       "      <td>280001600167</td>\n",
       "      <td>SOFIA PADUA MANZANO</td>\n",
       "      <td>APTO</td>\n",
       "      <td>PCB</td>\n",
       "      <td>BRASILEIRA NATA</td>\n",
       "      <td>FEMININO</td>\n",
       "      <td>SUPERIOR COMPLETO</td>\n",
       "      <td>SOLTEIRO(A)</td>\n",
       "      <td>BRANCA</td>\n",
       "      <td>2022</td>\n",
       "      <td>BRASIL</td>\n",
       "      <td>Casa</td>\n",
       "      <td>294000,00</td>\n",
       "    </tr>\n",
       "    <tr>\n",
       "      <th>2</th>\n",
       "      <td>ELEIÇÃO ORDINÁRIA</td>\n",
       "      <td>BR</td>\n",
       "      <td>PRESIDENTE</td>\n",
       "      <td>280001600167</td>\n",
       "      <td>SOFIA PADUA MANZANO</td>\n",
       "      <td>APTO</td>\n",
       "      <td>PCB</td>\n",
       "      <td>BRASILEIRA NATA</td>\n",
       "      <td>FEMININO</td>\n",
       "      <td>SUPERIOR COMPLETO</td>\n",
       "      <td>SOLTEIRO(A)</td>\n",
       "      <td>BRANCA</td>\n",
       "      <td>2022</td>\n",
       "      <td>BRASIL</td>\n",
       "      <td>Apartamento</td>\n",
       "      <td>200000,00</td>\n",
       "    </tr>\n",
       "    <tr>\n",
       "      <th>3</th>\n",
       "      <td>ELEIÇÃO ORDINÁRIA</td>\n",
       "      <td>BR</td>\n",
       "      <td>PRESIDENTE</td>\n",
       "      <td>280001600179</td>\n",
       "      <td>PABLO HENRIQUE COSTA MARÇAL</td>\n",
       "      <td>CADASTRADO</td>\n",
       "      <td>PROS</td>\n",
       "      <td>BRASILEIRA NATA</td>\n",
       "      <td>MASCULINO</td>\n",
       "      <td>SUPERIOR COMPLETO</td>\n",
       "      <td>CASADO(A)</td>\n",
       "      <td>BRANCA</td>\n",
       "      <td>2022</td>\n",
       "      <td>BRASIL</td>\n",
       "      <td>Outros bens imóveis</td>\n",
       "      <td>54984,33</td>\n",
       "    </tr>\n",
       "    <tr>\n",
       "      <th>4</th>\n",
       "      <td>ELEIÇÃO ORDINÁRIA</td>\n",
       "      <td>BR</td>\n",
       "      <td>PRESIDENTE</td>\n",
       "      <td>280001600179</td>\n",
       "      <td>PABLO HENRIQUE COSTA MARÇAL</td>\n",
       "      <td>CADASTRADO</td>\n",
       "      <td>PROS</td>\n",
       "      <td>BRASILEIRA NATA</td>\n",
       "      <td>MASCULINO</td>\n",
       "      <td>SUPERIOR COMPLETO</td>\n",
       "      <td>CASADO(A)</td>\n",
       "      <td>BRANCA</td>\n",
       "      <td>2022</td>\n",
       "      <td>BRASIL</td>\n",
       "      <td>Sala ou conjunto</td>\n",
       "      <td>100000,00</td>\n",
       "    </tr>\n",
       "  </tbody>\n",
       "</table>\n",
       "</div>"
      ],
      "text/plain": [
       "     NM_TIPO_ELEICAO SG_UE    DS_CARGO  SQ_CANDIDATO  \\\n",
       "0  ELEIÇÃO ORDINÁRIA    BR  PRESIDENTE  280001600167   \n",
       "1  ELEIÇÃO ORDINÁRIA    BR  PRESIDENTE  280001600167   \n",
       "2  ELEIÇÃO ORDINÁRIA    BR  PRESIDENTE  280001600167   \n",
       "3  ELEIÇÃO ORDINÁRIA    BR  PRESIDENTE  280001600179   \n",
       "4  ELEIÇÃO ORDINÁRIA    BR  PRESIDENTE  280001600179   \n",
       "\n",
       "                  NM_CANDIDATO DS_SITUACAO_CANDIDATURA SG_PARTIDO  \\\n",
       "0          SOFIA PADUA MANZANO                    APTO        PCB   \n",
       "1          SOFIA PADUA MANZANO                    APTO        PCB   \n",
       "2          SOFIA PADUA MANZANO                    APTO        PCB   \n",
       "3  PABLO HENRIQUE COSTA MARÇAL              CADASTRADO       PROS   \n",
       "4  PABLO HENRIQUE COSTA MARÇAL              CADASTRADO       PROS   \n",
       "\n",
       "  DS_NACIONALIDADE  DS_GENERO  DS_GRAU_INSTRUCAO DS_ESTADO_CIVIL DS_COR_RACA  \\\n",
       "0  BRASILEIRA NATA   FEMININO  SUPERIOR COMPLETO     SOLTEIRO(A)      BRANCA   \n",
       "1  BRASILEIRA NATA   FEMININO  SUPERIOR COMPLETO     SOLTEIRO(A)      BRANCA   \n",
       "2  BRASILEIRA NATA   FEMININO  SUPERIOR COMPLETO     SOLTEIRO(A)      BRANCA   \n",
       "3  BRASILEIRA NATA  MASCULINO  SUPERIOR COMPLETO       CASADO(A)      BRANCA   \n",
       "4  BRASILEIRA NATA  MASCULINO  SUPERIOR COMPLETO       CASADO(A)      BRANCA   \n",
       "\n",
       "   ANO_ELEICAO   NM_UE  DS_TIPO_BEM_CANDIDATO VR_BEM_CANDIDATO  \n",
       "0         2022  BRASIL  Caderneta de poupança          4000,00  \n",
       "1         2022  BRASIL                   Casa        294000,00  \n",
       "2         2022  BRASIL            Apartamento        200000,00  \n",
       "3         2022  BRASIL    Outros bens imóveis         54984,33  \n",
       "4         2022  BRASIL       Sala ou conjunto        100000,00  "
      ]
     },
     "execution_count": 15,
     "metadata": {},
     "output_type": "execute_result"
    }
   ],
   "source": [
    "patrimonio.head()"
   ]
  },
  {
   "cell_type": "code",
   "execution_count": 16,
   "metadata": {},
   "outputs": [
    {
     "name": "stdout",
     "output_type": "stream",
     "text": [
      "<class 'pandas.core.frame.DataFrame'>\n",
      "Int64Index: 167 entries, 0 to 166\n",
      "Data columns (total 16 columns):\n",
      " #   Column                   Non-Null Count  Dtype \n",
      "---  ------                   --------------  ----- \n",
      " 0   NM_TIPO_ELEICAO          167 non-null    object\n",
      " 1   SG_UE                    167 non-null    object\n",
      " 2   DS_CARGO                 167 non-null    object\n",
      " 3   SQ_CANDIDATO             167 non-null    int64 \n",
      " 4   NM_CANDIDATO             167 non-null    object\n",
      " 5   DS_SITUACAO_CANDIDATURA  167 non-null    object\n",
      " 6   SG_PARTIDO               167 non-null    object\n",
      " 7   DS_NACIONALIDADE         167 non-null    object\n",
      " 8   DS_GENERO                167 non-null    object\n",
      " 9   DS_GRAU_INSTRUCAO        167 non-null    object\n",
      " 10  DS_ESTADO_CIVIL          167 non-null    object\n",
      " 11  DS_COR_RACA              167 non-null    object\n",
      " 12  ANO_ELEICAO              167 non-null    int64 \n",
      " 13  NM_UE                    167 non-null    object\n",
      " 14  DS_TIPO_BEM_CANDIDATO    167 non-null    object\n",
      " 15  VR_BEM_CANDIDATO         167 non-null    object\n",
      "dtypes: int64(2), object(14)\n",
      "memory usage: 22.2+ KB\n"
     ]
    }
   ],
   "source": [
    "patrimonio.info()"
   ]
  },
  {
   "cell_type": "code",
   "execution_count": 17,
   "metadata": {},
   "outputs": [],
   "source": [
    "# Convertendo Valor do Bem\n",
    "patrimonio['VR_BEM_CANDIDATO'] = patrimonio['VR_BEM_CANDIDATO'].apply(lambda x: float(x.replace(',', '.')))"
   ]
  },
  {
   "cell_type": "code",
   "execution_count": 18,
   "metadata": {},
   "outputs": [
    {
     "data": {
      "text/plain": [
       "'R$ 145.275.098,99'"
      ]
     },
     "execution_count": 18,
     "metadata": {},
     "output_type": "execute_result"
    }
   ],
   "source": [
    "total = round(patrimonio['VR_BEM_CANDIDATO'].sum(),2)\n",
    "f'R${total: ,.2f}'.replace(',', '_'). replace('.', ','). replace('_', '.')"
   ]
  },
  {
   "cell_type": "markdown",
   "metadata": {},
   "source": [
    ">Veja o valor total de patromonio dos candidatos\n",
    "\n",
    "Aqui vale uma observação. O candidato a deputado federal que tem o maior patrimônio, supera a soma de todos os candidatos à presidência da república juntos. "
   ]
  },
  {
   "cell_type": "code",
   "execution_count": 19,
   "metadata": {},
   "outputs": [
    {
     "data": {
      "text/html": [
       "<div>\n",
       "<style scoped>\n",
       "    .dataframe tbody tr th:only-of-type {\n",
       "        vertical-align: middle;\n",
       "    }\n",
       "\n",
       "    .dataframe tbody tr th {\n",
       "        vertical-align: top;\n",
       "    }\n",
       "\n",
       "    .dataframe thead th {\n",
       "        text-align: right;\n",
       "    }\n",
       "</style>\n",
       "<table border=\"1\" class=\"dataframe\">\n",
       "  <thead>\n",
       "    <tr style=\"text-align: right;\">\n",
       "      <th></th>\n",
       "      <th>NM_CANDIDATO</th>\n",
       "      <th>VR_BEM_CANDIDATO</th>\n",
       "    </tr>\n",
       "  </thead>\n",
       "  <tbody>\n",
       "    <tr>\n",
       "      <th>0</th>\n",
       "      <td>PABLO HENRIQUE COSTA MARÇAL</td>\n",
       "      <td>R$ 96.942.541,15</td>\n",
       "    </tr>\n",
       "    <tr>\n",
       "      <th>1</th>\n",
       "      <td>LUIZ FELIPE CHAVES D AVILA</td>\n",
       "      <td>R$ 24.619.627,66</td>\n",
       "    </tr>\n",
       "    <tr>\n",
       "      <th>2</th>\n",
       "      <td>LUIZ INÁCIO LULA DA SILVA</td>\n",
       "      <td>R$ 7.423.725,78</td>\n",
       "    </tr>\n",
       "    <tr>\n",
       "      <th>3</th>\n",
       "      <td>JOSE MARIA EYMAEL</td>\n",
       "      <td>R$ 6.572.826,60</td>\n",
       "    </tr>\n",
       "    <tr>\n",
       "      <th>4</th>\n",
       "      <td>CIRO FERREIRA GOMES</td>\n",
       "      <td>R$ 3.039.761,97</td>\n",
       "    </tr>\n",
       "    <tr>\n",
       "      <th>5</th>\n",
       "      <td>SIMONE NASSAR TEBET</td>\n",
       "      <td>R$ 2.323.735,38</td>\n",
       "    </tr>\n",
       "    <tr>\n",
       "      <th>6</th>\n",
       "      <td>JAIR MESSIAS BOLSONARO</td>\n",
       "      <td>R$ 2.317.554,73</td>\n",
       "    </tr>\n",
       "    <tr>\n",
       "      <th>7</th>\n",
       "      <td>SORAYA VIEIRA THRONICKE</td>\n",
       "      <td>R$ 783.000,00</td>\n",
       "    </tr>\n",
       "    <tr>\n",
       "      <th>8</th>\n",
       "      <td>ROBERTO JEFFERSON MONTEIRO FRANCISCO</td>\n",
       "      <td>R$ 745.323,41</td>\n",
       "    </tr>\n",
       "    <tr>\n",
       "      <th>9</th>\n",
       "      <td>SOFIA PADUA MANZANO</td>\n",
       "      <td>R$ 498.000,00</td>\n",
       "    </tr>\n",
       "    <tr>\n",
       "      <th>10</th>\n",
       "      <td>VERA LUCIA PEREIRA DA SILVA SALGADO</td>\n",
       "      <td>R$ 8.805,00</td>\n",
       "    </tr>\n",
       "    <tr>\n",
       "      <th>11</th>\n",
       "      <td>LEONARDO PÉRICLES VIEIRA ROQUE</td>\n",
       "      <td>R$ 197,31</td>\n",
       "    </tr>\n",
       "  </tbody>\n",
       "</table>\n",
       "</div>"
      ],
      "text/plain": [
       "                            NM_CANDIDATO  VR_BEM_CANDIDATO\n",
       "0            PABLO HENRIQUE COSTA MARÇAL  R$ 96.942.541,15\n",
       "1             LUIZ FELIPE CHAVES D AVILA  R$ 24.619.627,66\n",
       "2              LUIZ INÁCIO LULA DA SILVA   R$ 7.423.725,78\n",
       "3                      JOSE MARIA EYMAEL   R$ 6.572.826,60\n",
       "4                    CIRO FERREIRA GOMES   R$ 3.039.761,97\n",
       "5                    SIMONE NASSAR TEBET   R$ 2.323.735,38\n",
       "6                 JAIR MESSIAS BOLSONARO   R$ 2.317.554,73\n",
       "7                SORAYA VIEIRA THRONICKE     R$ 783.000,00\n",
       "8   ROBERTO JEFFERSON MONTEIRO FRANCISCO     R$ 745.323,41\n",
       "9                    SOFIA PADUA MANZANO     R$ 498.000,00\n",
       "10   VERA LUCIA PEREIRA DA SILVA SALGADO       R$ 8.805,00\n",
       "11        LEONARDO PÉRICLES VIEIRA ROQUE         R$ 197,31"
      ]
     },
     "execution_count": 19,
     "metadata": {},
     "output_type": "execute_result"
    }
   ],
   "source": [
    "dados = patrimonio.groupby(['NM_CANDIDATO'])['VR_BEM_CANDIDATO'].sum().sort_values(ascending = False).reset_index()\n",
    "dados['VR_BEM_CANDIDATO'] = dados['VR_BEM_CANDIDATO'].apply(lambda x: f'R${x: ,.2f}'.replace(',', '_'). replace('.', ','). replace('_', '.'))\n",
    "dados"
   ]
  },
  {
   "cell_type": "markdown",
   "metadata": {},
   "source": [
    ">O candidato Pablo Marçal é de longe o candidato mais rico deste pleito."
   ]
  },
  {
   "cell_type": "markdown",
   "metadata": {},
   "source": [
    "Veja que o tipo de aplicação mais comum é o de \"Depósito bancário em conta corrente no País\", no entando não é o que possui mais dinheiro alocado."
   ]
  },
  {
   "cell_type": "code",
   "execution_count": 20,
   "metadata": {},
   "outputs": [
    {
     "data": {
      "text/plain": [
       "Depósito bancário em conta corrente no País                     20\n",
       "Apartamento                                                     16\n",
       "Ações (inclusive as provenientes de linha telefônica)           15\n",
       "Casa                                                            14\n",
       "Quotas ou quinhões de capital                                   12\n",
       "Caderneta de poupança                                            9\n",
       "Terreno                                                          9\n",
       "OUTROS BENS E DIREITOS                                           9\n",
       "Veículo automotor terrestre: caminhão, automóvel, moto, etc.     9\n",
       "Crédito decorrente de empréstimo                                 7\n",
       "Name: DS_TIPO_BEM_CANDIDATO, dtype: int64"
      ]
     },
     "execution_count": 20,
     "metadata": {},
     "output_type": "execute_result"
    }
   ],
   "source": [
    "patrimonio['DS_TIPO_BEM_CANDIDATO'].value_counts().head(10)"
   ]
  },
  {
   "cell_type": "code",
   "execution_count": 21,
   "metadata": {},
   "outputs": [],
   "source": [
    "def extratoInvestimento(candidato):\n",
    "    temp = patrimonio.query('NM_CANDIDATO == @candidato').\\\n",
    "           groupby(['DS_TIPO_BEM_CANDIDATO']).sum().sort_values(by = 'VR_BEM_CANDIDATO', ascending = False).\\\n",
    "           reset_index()[['DS_TIPO_BEM_CANDIDATO','VR_BEM_CANDIDATO']]\n",
    "\n",
    "    total = temp['VR_BEM_CANDIDATO'].sum()\n",
    "    print(f'R$ {total: ,.2f}')\n",
    "\n",
    "    temp['VR_BEM_CANDIDATO'] = temp['VR_BEM_CANDIDATO'].apply(lambda x: f'R${x: ,.2f}'.replace(',', '_'). replace('.', ','). replace('_', '.'))\n",
    "\n",
    "    return temp"
   ]
  },
  {
   "cell_type": "markdown",
   "metadata": {},
   "source": [
    "### 2.6.**PATRIMONIO INDIVIDUAL DE CADA CANDIDATO**"
   ]
  },
  {
   "cell_type": "code",
   "execution_count": 22,
   "metadata": {},
   "outputs": [
    {
     "name": "stdout",
     "output_type": "stream",
     "text": [
      "R$  96,942,541.15\n"
     ]
    },
    {
     "data": {
      "text/html": [
       "<div>\n",
       "<style scoped>\n",
       "    .dataframe tbody tr th:only-of-type {\n",
       "        vertical-align: middle;\n",
       "    }\n",
       "\n",
       "    .dataframe tbody tr th {\n",
       "        vertical-align: top;\n",
       "    }\n",
       "\n",
       "    .dataframe thead th {\n",
       "        text-align: right;\n",
       "    }\n",
       "</style>\n",
       "<table border=\"1\" class=\"dataframe\">\n",
       "  <thead>\n",
       "    <tr style=\"text-align: right;\">\n",
       "      <th></th>\n",
       "      <th>DS_TIPO_BEM_CANDIDATO</th>\n",
       "      <th>VR_BEM_CANDIDATO</th>\n",
       "    </tr>\n",
       "  </thead>\n",
       "  <tbody>\n",
       "    <tr>\n",
       "      <th>0</th>\n",
       "      <td>Outras participações societárias</td>\n",
       "      <td>R$ 93.715.103,68</td>\n",
       "    </tr>\n",
       "    <tr>\n",
       "      <th>1</th>\n",
       "      <td>Ações (inclusive as provenientes de linha tele...</td>\n",
       "      <td>R$ 955.622,37</td>\n",
       "    </tr>\n",
       "    <tr>\n",
       "      <th>2</th>\n",
       "      <td>OUTROS BENS E DIREITOS</td>\n",
       "      <td>R$ 596.181,87</td>\n",
       "    </tr>\n",
       "    <tr>\n",
       "      <th>3</th>\n",
       "      <td>Bem relacionado com o exercício da atividade a...</td>\n",
       "      <td>R$ 500.000,00</td>\n",
       "    </tr>\n",
       "    <tr>\n",
       "      <th>4</th>\n",
       "      <td>Depósito bancário em conta corrente no País</td>\n",
       "      <td>R$ 344.104,10</td>\n",
       "    </tr>\n",
       "    <tr>\n",
       "      <th>5</th>\n",
       "      <td>Consórcio não contemplado</td>\n",
       "      <td>R$ 323.566,21</td>\n",
       "    </tr>\n",
       "    <tr>\n",
       "      <th>6</th>\n",
       "      <td>Aplicação de renda fixa (CDB, RDB e outros)</td>\n",
       "      <td>R$ 232.772,20</td>\n",
       "    </tr>\n",
       "    <tr>\n",
       "      <th>7</th>\n",
       "      <td>Apartamento</td>\n",
       "      <td>R$ 100.000,00</td>\n",
       "    </tr>\n",
       "    <tr>\n",
       "      <th>8</th>\n",
       "      <td>Sala ou conjunto</td>\n",
       "      <td>R$ 100.000,00</td>\n",
       "    </tr>\n",
       "    <tr>\n",
       "      <th>9</th>\n",
       "      <td>Outros bens imóveis</td>\n",
       "      <td>R$ 54.984,33</td>\n",
       "    </tr>\n",
       "    <tr>\n",
       "      <th>10</th>\n",
       "      <td>Fundos: Ações, Mútuos de Privatização, Invest....</td>\n",
       "      <td>R$ 20.206,39</td>\n",
       "    </tr>\n",
       "  </tbody>\n",
       "</table>\n",
       "</div>"
      ],
      "text/plain": [
       "                                DS_TIPO_BEM_CANDIDATO  VR_BEM_CANDIDATO\n",
       "0                    Outras participações societárias  R$ 93.715.103,68\n",
       "1   Ações (inclusive as provenientes de linha tele...     R$ 955.622,37\n",
       "2                              OUTROS BENS E DIREITOS     R$ 596.181,87\n",
       "3   Bem relacionado com o exercício da atividade a...     R$ 500.000,00\n",
       "4         Depósito bancário em conta corrente no País     R$ 344.104,10\n",
       "5                           Consórcio não contemplado     R$ 323.566,21\n",
       "6         Aplicação de renda fixa (CDB, RDB e outros)     R$ 232.772,20\n",
       "7                                         Apartamento     R$ 100.000,00\n",
       "8                                    Sala ou conjunto     R$ 100.000,00\n",
       "9                                 Outros bens imóveis      R$ 54.984,33\n",
       "10  Fundos: Ações, Mútuos de Privatização, Invest....      R$ 20.206,39"
      ]
     },
     "execution_count": 22,
     "metadata": {},
     "output_type": "execute_result"
    }
   ],
   "source": [
    "extratoInvestimento('PABLO HENRIQUE COSTA MARÇAL')"
   ]
  },
  {
   "cell_type": "code",
   "execution_count": 23,
   "metadata": {},
   "outputs": [
    {
     "name": "stdout",
     "output_type": "stream",
     "text": [
      "R$  24,619,627.66\n"
     ]
    },
    {
     "data": {
      "text/html": [
       "<div>\n",
       "<style scoped>\n",
       "    .dataframe tbody tr th:only-of-type {\n",
       "        vertical-align: middle;\n",
       "    }\n",
       "\n",
       "    .dataframe tbody tr th {\n",
       "        vertical-align: top;\n",
       "    }\n",
       "\n",
       "    .dataframe thead th {\n",
       "        text-align: right;\n",
       "    }\n",
       "</style>\n",
       "<table border=\"1\" class=\"dataframe\">\n",
       "  <thead>\n",
       "    <tr style=\"text-align: right;\">\n",
       "      <th></th>\n",
       "      <th>DS_TIPO_BEM_CANDIDATO</th>\n",
       "      <th>VR_BEM_CANDIDATO</th>\n",
       "    </tr>\n",
       "  </thead>\n",
       "  <tbody>\n",
       "    <tr>\n",
       "      <th>0</th>\n",
       "      <td>Quotas ou quinhões de capital</td>\n",
       "      <td>R$ 21.031.213,62</td>\n",
       "    </tr>\n",
       "    <tr>\n",
       "      <th>1</th>\n",
       "      <td>Casa</td>\n",
       "      <td>R$ 3.348.515,20</td>\n",
       "    </tr>\n",
       "    <tr>\n",
       "      <th>2</th>\n",
       "      <td>Aplicação de renda fixa (CDB, RDB e outros)</td>\n",
       "      <td>R$ 238.578,79</td>\n",
       "    </tr>\n",
       "    <tr>\n",
       "      <th>3</th>\n",
       "      <td>Outras aplicações e Investimentos</td>\n",
       "      <td>R$ 1.320,05</td>\n",
       "    </tr>\n",
       "  </tbody>\n",
       "</table>\n",
       "</div>"
      ],
      "text/plain": [
       "                         DS_TIPO_BEM_CANDIDATO  VR_BEM_CANDIDATO\n",
       "0                Quotas ou quinhões de capital  R$ 21.031.213,62\n",
       "1                                         Casa   R$ 3.348.515,20\n",
       "2  Aplicação de renda fixa (CDB, RDB e outros)     R$ 238.578,79\n",
       "3            Outras aplicações e Investimentos       R$ 1.320,05"
      ]
     },
     "execution_count": 23,
     "metadata": {},
     "output_type": "execute_result"
    }
   ],
   "source": [
    "extratoInvestimento('LUIZ FELIPE CHAVES D AVILA')"
   ]
  },
  {
   "cell_type": "code",
   "execution_count": 24,
   "metadata": {},
   "outputs": [
    {
     "name": "stdout",
     "output_type": "stream",
     "text": [
      "R$  7,423,725.78\n"
     ]
    },
    {
     "data": {
      "text/html": [
       "<div>\n",
       "<style scoped>\n",
       "    .dataframe tbody tr th:only-of-type {\n",
       "        vertical-align: middle;\n",
       "    }\n",
       "\n",
       "    .dataframe tbody tr th {\n",
       "        vertical-align: top;\n",
       "    }\n",
       "\n",
       "    .dataframe thead th {\n",
       "        text-align: right;\n",
       "    }\n",
       "</style>\n",
       "<table border=\"1\" class=\"dataframe\">\n",
       "  <thead>\n",
       "    <tr style=\"text-align: right;\">\n",
       "      <th></th>\n",
       "      <th>DS_TIPO_BEM_CANDIDATO</th>\n",
       "      <th>VR_BEM_CANDIDATO</th>\n",
       "    </tr>\n",
       "  </thead>\n",
       "  <tbody>\n",
       "    <tr>\n",
       "      <th>0</th>\n",
       "      <td>VGBL - Vida Gerador de Benefício Livre</td>\n",
       "      <td>R$ 5.570.798,99</td>\n",
       "    </tr>\n",
       "    <tr>\n",
       "      <th>1</th>\n",
       "      <td>OUTROS BENS E DIREITOS</td>\n",
       "      <td>R$ 430.020,99</td>\n",
       "    </tr>\n",
       "    <tr>\n",
       "      <th>2</th>\n",
       "      <td>Terreno</td>\n",
       "      <td>R$ 397.733,45</td>\n",
       "    </tr>\n",
       "    <tr>\n",
       "      <th>3</th>\n",
       "      <td>Crédito decorrente de empréstimo</td>\n",
       "      <td>R$ 250.000,00</td>\n",
       "    </tr>\n",
       "    <tr>\n",
       "      <th>4</th>\n",
       "      <td>Construção</td>\n",
       "      <td>R$ 246.918,82</td>\n",
       "    </tr>\n",
       "    <tr>\n",
       "      <th>5</th>\n",
       "      <td>Aplicação de renda fixa (CDB, RDB e outros)</td>\n",
       "      <td>R$ 185.744,81</td>\n",
       "    </tr>\n",
       "    <tr>\n",
       "      <th>6</th>\n",
       "      <td>Veículo automotor terrestre: caminhão, automóv...</td>\n",
       "      <td>R$ 133.475,00</td>\n",
       "    </tr>\n",
       "    <tr>\n",
       "      <th>7</th>\n",
       "      <td>Apartamento</td>\n",
       "      <td>R$ 132.905,93</td>\n",
       "    </tr>\n",
       "    <tr>\n",
       "      <th>8</th>\n",
       "      <td>Quotas ou quinhões de capital</td>\n",
       "      <td>R$ 49.000,00</td>\n",
       "    </tr>\n",
       "    <tr>\n",
       "      <th>9</th>\n",
       "      <td>Depósito bancário em conta corrente no País</td>\n",
       "      <td>R$ 20.862,23</td>\n",
       "    </tr>\n",
       "    <tr>\n",
       "      <th>10</th>\n",
       "      <td>Caderneta de poupança</td>\n",
       "      <td>R$ 4.719,22</td>\n",
       "    </tr>\n",
       "    <tr>\n",
       "      <th>11</th>\n",
       "      <td>Fundo de Curto Prazo</td>\n",
       "      <td>R$ 1.213,17</td>\n",
       "    </tr>\n",
       "    <tr>\n",
       "      <th>12</th>\n",
       "      <td>Outras aplicações e Investimentos</td>\n",
       "      <td>R$ 333,17</td>\n",
       "    </tr>\n",
       "  </tbody>\n",
       "</table>\n",
       "</div>"
      ],
      "text/plain": [
       "                                DS_TIPO_BEM_CANDIDATO VR_BEM_CANDIDATO\n",
       "0              VGBL - Vida Gerador de Benefício Livre  R$ 5.570.798,99\n",
       "1                              OUTROS BENS E DIREITOS    R$ 430.020,99\n",
       "2                                             Terreno    R$ 397.733,45\n",
       "3                    Crédito decorrente de empréstimo    R$ 250.000,00\n",
       "4                                          Construção    R$ 246.918,82\n",
       "5         Aplicação de renda fixa (CDB, RDB e outros)    R$ 185.744,81\n",
       "6   Veículo automotor terrestre: caminhão, automóv...    R$ 133.475,00\n",
       "7                                         Apartamento    R$ 132.905,93\n",
       "8                       Quotas ou quinhões de capital     R$ 49.000,00\n",
       "9         Depósito bancário em conta corrente no País     R$ 20.862,23\n",
       "10                              Caderneta de poupança      R$ 4.719,22\n",
       "11                               Fundo de Curto Prazo      R$ 1.213,17\n",
       "12                  Outras aplicações e Investimentos        R$ 333,17"
      ]
     },
     "execution_count": 24,
     "metadata": {},
     "output_type": "execute_result"
    }
   ],
   "source": [
    "extratoInvestimento('LUIZ INÁCIO LULA DA SILVA')"
   ]
  },
  {
   "cell_type": "code",
   "execution_count": 25,
   "metadata": {},
   "outputs": [
    {
     "name": "stdout",
     "output_type": "stream",
     "text": [
      "R$  6,572,826.60\n"
     ]
    },
    {
     "data": {
      "text/html": [
       "<div>\n",
       "<style scoped>\n",
       "    .dataframe tbody tr th:only-of-type {\n",
       "        vertical-align: middle;\n",
       "    }\n",
       "\n",
       "    .dataframe tbody tr th {\n",
       "        vertical-align: top;\n",
       "    }\n",
       "\n",
       "    .dataframe thead th {\n",
       "        text-align: right;\n",
       "    }\n",
       "</style>\n",
       "<table border=\"1\" class=\"dataframe\">\n",
       "  <thead>\n",
       "    <tr style=\"text-align: right;\">\n",
       "      <th></th>\n",
       "      <th>DS_TIPO_BEM_CANDIDATO</th>\n",
       "      <th>VR_BEM_CANDIDATO</th>\n",
       "    </tr>\n",
       "  </thead>\n",
       "  <tbody>\n",
       "    <tr>\n",
       "      <th>0</th>\n",
       "      <td>Crédito decorrente de empréstimo</td>\n",
       "      <td>R$ 4.865.198,32</td>\n",
       "    </tr>\n",
       "    <tr>\n",
       "      <th>1</th>\n",
       "      <td>Casa</td>\n",
       "      <td>R$ 408.106,53</td>\n",
       "    </tr>\n",
       "    <tr>\n",
       "      <th>2</th>\n",
       "      <td>Quotas ou quinhões de capital</td>\n",
       "      <td>R$ 359.257,00</td>\n",
       "    </tr>\n",
       "    <tr>\n",
       "      <th>3</th>\n",
       "      <td>Fundos: Ações, Mútuos de Privatização, Invest....</td>\n",
       "      <td>R$ 285.941,48</td>\n",
       "    </tr>\n",
       "    <tr>\n",
       "      <th>4</th>\n",
       "      <td>Veículo automotor terrestre: caminhão, automóv...</td>\n",
       "      <td>R$ 234.660,00</td>\n",
       "    </tr>\n",
       "    <tr>\n",
       "      <th>5</th>\n",
       "      <td>Embarcação</td>\n",
       "      <td>R$ 130.770,00</td>\n",
       "    </tr>\n",
       "    <tr>\n",
       "      <th>6</th>\n",
       "      <td>Apartamento</td>\n",
       "      <td>R$ 119.857,21</td>\n",
       "    </tr>\n",
       "    <tr>\n",
       "      <th>7</th>\n",
       "      <td>Benfeitorias</td>\n",
       "      <td>R$ 39.767,40</td>\n",
       "    </tr>\n",
       "    <tr>\n",
       "      <th>8</th>\n",
       "      <td>Outras participações societárias</td>\n",
       "      <td>R$ 38.176,00</td>\n",
       "    </tr>\n",
       "    <tr>\n",
       "      <th>9</th>\n",
       "      <td>Terreno</td>\n",
       "      <td>R$ 18.884,69</td>\n",
       "    </tr>\n",
       "    <tr>\n",
       "      <th>10</th>\n",
       "      <td>Linha telefônica</td>\n",
       "      <td>R$ 13.610,16</td>\n",
       "    </tr>\n",
       "    <tr>\n",
       "      <th>11</th>\n",
       "      <td>Depósito bancário em conta corrente no País</td>\n",
       "      <td>R$ 13.136,32</td>\n",
       "    </tr>\n",
       "    <tr>\n",
       "      <th>12</th>\n",
       "      <td>Aplicação de renda fixa (CDB, RDB e outros)</td>\n",
       "      <td>R$ 10.000,00</td>\n",
       "    </tr>\n",
       "    <tr>\n",
       "      <th>13</th>\n",
       "      <td>Crédito decorrente de alienação</td>\n",
       "      <td>R$ 9.815,00</td>\n",
       "    </tr>\n",
       "    <tr>\n",
       "      <th>14</th>\n",
       "      <td>Caderneta de poupança</td>\n",
       "      <td>R$ 6.951,16</td>\n",
       "    </tr>\n",
       "    <tr>\n",
       "      <th>15</th>\n",
       "      <td>Ações (inclusive as provenientes de linha tele...</td>\n",
       "      <td>R$ 6.348,00</td>\n",
       "    </tr>\n",
       "    <tr>\n",
       "      <th>16</th>\n",
       "      <td>Fundo de Curto Prazo</td>\n",
       "      <td>R$ 6.053,55</td>\n",
       "    </tr>\n",
       "    <tr>\n",
       "      <th>17</th>\n",
       "      <td>Jóia, quadro, objeto de arte, de coleção, anti...</td>\n",
       "      <td>R$ 4.163,84</td>\n",
       "    </tr>\n",
       "    <tr>\n",
       "      <th>18</th>\n",
       "      <td>Dinheiro em espécie - moeda nacional</td>\n",
       "      <td>R$ 2.000,00</td>\n",
       "    </tr>\n",
       "    <tr>\n",
       "      <th>19</th>\n",
       "      <td>Outros créditos e poupança vinculados</td>\n",
       "      <td>R$ 129,94</td>\n",
       "    </tr>\n",
       "  </tbody>\n",
       "</table>\n",
       "</div>"
      ],
      "text/plain": [
       "                                DS_TIPO_BEM_CANDIDATO VR_BEM_CANDIDATO\n",
       "0                    Crédito decorrente de empréstimo  R$ 4.865.198,32\n",
       "1                                                Casa    R$ 408.106,53\n",
       "2                       Quotas ou quinhões de capital    R$ 359.257,00\n",
       "3   Fundos: Ações, Mútuos de Privatização, Invest....    R$ 285.941,48\n",
       "4   Veículo automotor terrestre: caminhão, automóv...    R$ 234.660,00\n",
       "5                                          Embarcação    R$ 130.770,00\n",
       "6                                         Apartamento    R$ 119.857,21\n",
       "7                                        Benfeitorias     R$ 39.767,40\n",
       "8                    Outras participações societárias     R$ 38.176,00\n",
       "9                                             Terreno     R$ 18.884,69\n",
       "10                                   Linha telefônica     R$ 13.610,16\n",
       "11        Depósito bancário em conta corrente no País     R$ 13.136,32\n",
       "12        Aplicação de renda fixa (CDB, RDB e outros)     R$ 10.000,00\n",
       "13                    Crédito decorrente de alienação      R$ 9.815,00\n",
       "14                              Caderneta de poupança      R$ 6.951,16\n",
       "15  Ações (inclusive as provenientes de linha tele...      R$ 6.348,00\n",
       "16                               Fundo de Curto Prazo      R$ 6.053,55\n",
       "17  Jóia, quadro, objeto de arte, de coleção, anti...      R$ 4.163,84\n",
       "18               Dinheiro em espécie - moeda nacional      R$ 2.000,00\n",
       "19              Outros créditos e poupança vinculados        R$ 129,94"
      ]
     },
     "execution_count": 25,
     "metadata": {},
     "output_type": "execute_result"
    }
   ],
   "source": [
    "extratoInvestimento('JOSE MARIA EYMAEL')"
   ]
  },
  {
   "cell_type": "code",
   "execution_count": 26,
   "metadata": {},
   "outputs": [
    {
     "name": "stdout",
     "output_type": "stream",
     "text": [
      "R$  3,039,761.97\n"
     ]
    },
    {
     "data": {
      "text/html": [
       "<div>\n",
       "<style scoped>\n",
       "    .dataframe tbody tr th:only-of-type {\n",
       "        vertical-align: middle;\n",
       "    }\n",
       "\n",
       "    .dataframe tbody tr th {\n",
       "        vertical-align: top;\n",
       "    }\n",
       "\n",
       "    .dataframe thead th {\n",
       "        text-align: right;\n",
       "    }\n",
       "</style>\n",
       "<table border=\"1\" class=\"dataframe\">\n",
       "  <thead>\n",
       "    <tr style=\"text-align: right;\">\n",
       "      <th></th>\n",
       "      <th>DS_TIPO_BEM_CANDIDATO</th>\n",
       "      <th>VR_BEM_CANDIDATO</th>\n",
       "    </tr>\n",
       "  </thead>\n",
       "  <tbody>\n",
       "    <tr>\n",
       "      <th>0</th>\n",
       "      <td>Apartamento</td>\n",
       "      <td>R$ 1.068.293,92</td>\n",
       "    </tr>\n",
       "    <tr>\n",
       "      <th>1</th>\n",
       "      <td>Crédito decorrente de alienação</td>\n",
       "      <td>R$ 1.004.590,70</td>\n",
       "    </tr>\n",
       "    <tr>\n",
       "      <th>2</th>\n",
       "      <td>Casa</td>\n",
       "      <td>R$ 460.000,00</td>\n",
       "    </tr>\n",
       "    <tr>\n",
       "      <th>3</th>\n",
       "      <td>Veículo automotor terrestre: caminhão, automóv...</td>\n",
       "      <td>R$ 190.000,00</td>\n",
       "    </tr>\n",
       "    <tr>\n",
       "      <th>4</th>\n",
       "      <td>Outros créditos e poupança vinculados</td>\n",
       "      <td>R$ 155.972,06</td>\n",
       "    </tr>\n",
       "    <tr>\n",
       "      <th>5</th>\n",
       "      <td>Quotas ou quinhões de capital</td>\n",
       "      <td>R$ 62.000,00</td>\n",
       "    </tr>\n",
       "    <tr>\n",
       "      <th>6</th>\n",
       "      <td>Crédito decorrente de empréstimo</td>\n",
       "      <td>R$ 36.000,00</td>\n",
       "    </tr>\n",
       "    <tr>\n",
       "      <th>7</th>\n",
       "      <td>Dinheiro em espécie - moeda nacional</td>\n",
       "      <td>R$ 31.916,28</td>\n",
       "    </tr>\n",
       "    <tr>\n",
       "      <th>8</th>\n",
       "      <td>VGBL - Vida Gerador de Benefício Livre</td>\n",
       "      <td>R$ 28.517,32</td>\n",
       "    </tr>\n",
       "    <tr>\n",
       "      <th>9</th>\n",
       "      <td>Depósito bancário em conta corrente no País</td>\n",
       "      <td>R$ 2.471,69</td>\n",
       "    </tr>\n",
       "  </tbody>\n",
       "</table>\n",
       "</div>"
      ],
      "text/plain": [
       "                               DS_TIPO_BEM_CANDIDATO VR_BEM_CANDIDATO\n",
       "0                                        Apartamento  R$ 1.068.293,92\n",
       "1                    Crédito decorrente de alienação  R$ 1.004.590,70\n",
       "2                                               Casa    R$ 460.000,00\n",
       "3  Veículo automotor terrestre: caminhão, automóv...    R$ 190.000,00\n",
       "4              Outros créditos e poupança vinculados    R$ 155.972,06\n",
       "5                      Quotas ou quinhões de capital     R$ 62.000,00\n",
       "6                   Crédito decorrente de empréstimo     R$ 36.000,00\n",
       "7               Dinheiro em espécie - moeda nacional     R$ 31.916,28\n",
       "8             VGBL - Vida Gerador de Benefício Livre     R$ 28.517,32\n",
       "9        Depósito bancário em conta corrente no País      R$ 2.471,69"
      ]
     },
     "execution_count": 26,
     "metadata": {},
     "output_type": "execute_result"
    }
   ],
   "source": [
    "extratoInvestimento('CIRO FERREIRA GOMES')"
   ]
  },
  {
   "cell_type": "code",
   "execution_count": 27,
   "metadata": {},
   "outputs": [
    {
     "name": "stdout",
     "output_type": "stream",
     "text": [
      "R$  2,323,735.38\n"
     ]
    },
    {
     "data": {
      "text/html": [
       "<div>\n",
       "<style scoped>\n",
       "    .dataframe tbody tr th:only-of-type {\n",
       "        vertical-align: middle;\n",
       "    }\n",
       "\n",
       "    .dataframe tbody tr th {\n",
       "        vertical-align: top;\n",
       "    }\n",
       "\n",
       "    .dataframe thead th {\n",
       "        text-align: right;\n",
       "    }\n",
       "</style>\n",
       "<table border=\"1\" class=\"dataframe\">\n",
       "  <thead>\n",
       "    <tr style=\"text-align: right;\">\n",
       "      <th></th>\n",
       "      <th>DS_TIPO_BEM_CANDIDATO</th>\n",
       "      <th>VR_BEM_CANDIDATO</th>\n",
       "    </tr>\n",
       "  </thead>\n",
       "  <tbody>\n",
       "    <tr>\n",
       "      <th>0</th>\n",
       "      <td>Apartamento</td>\n",
       "      <td>R$ 1.391.903,69</td>\n",
       "    </tr>\n",
       "    <tr>\n",
       "      <th>1</th>\n",
       "      <td>Terreno</td>\n",
       "      <td>R$ 751.209,33</td>\n",
       "    </tr>\n",
       "    <tr>\n",
       "      <th>2</th>\n",
       "      <td>Casa</td>\n",
       "      <td>R$ 121.397,28</td>\n",
       "    </tr>\n",
       "    <tr>\n",
       "      <th>3</th>\n",
       "      <td>Depósito bancário em conta corrente no País</td>\n",
       "      <td>R$ 59.225,08</td>\n",
       "    </tr>\n",
       "  </tbody>\n",
       "</table>\n",
       "</div>"
      ],
      "text/plain": [
       "                         DS_TIPO_BEM_CANDIDATO VR_BEM_CANDIDATO\n",
       "0                                  Apartamento  R$ 1.391.903,69\n",
       "1                                      Terreno    R$ 751.209,33\n",
       "2                                         Casa    R$ 121.397,28\n",
       "3  Depósito bancário em conta corrente no País     R$ 59.225,08"
      ]
     },
     "execution_count": 27,
     "metadata": {},
     "output_type": "execute_result"
    }
   ],
   "source": [
    "extratoInvestimento('SIMONE NASSAR TEBET')"
   ]
  },
  {
   "cell_type": "code",
   "execution_count": 28,
   "metadata": {},
   "outputs": [
    {
     "name": "stdout",
     "output_type": "stream",
     "text": [
      "R$  2,317,554.73\n"
     ]
    },
    {
     "data": {
      "text/html": [
       "<div>\n",
       "<style scoped>\n",
       "    .dataframe tbody tr th:only-of-type {\n",
       "        vertical-align: middle;\n",
       "    }\n",
       "\n",
       "    .dataframe tbody tr th {\n",
       "        vertical-align: top;\n",
       "    }\n",
       "\n",
       "    .dataframe thead th {\n",
       "        text-align: right;\n",
       "    }\n",
       "</style>\n",
       "<table border=\"1\" class=\"dataframe\">\n",
       "  <thead>\n",
       "    <tr style=\"text-align: right;\">\n",
       "      <th></th>\n",
       "      <th>DS_TIPO_BEM_CANDIDATO</th>\n",
       "      <th>VR_BEM_CANDIDATO</th>\n",
       "    </tr>\n",
       "  </thead>\n",
       "  <tbody>\n",
       "    <tr>\n",
       "      <th>0</th>\n",
       "      <td>Casa</td>\n",
       "      <td>R$ 1.142.303,54</td>\n",
       "    </tr>\n",
       "    <tr>\n",
       "      <th>1</th>\n",
       "      <td>Caderneta de poupança</td>\n",
       "      <td>R$ 591.047,58</td>\n",
       "    </tr>\n",
       "    <tr>\n",
       "      <th>2</th>\n",
       "      <td>Depósito bancário em conta corrente no País</td>\n",
       "      <td>R$ 316.524,61</td>\n",
       "    </tr>\n",
       "    <tr>\n",
       "      <th>3</th>\n",
       "      <td>Apartamento</td>\n",
       "      <td>R$ 240.930,00</td>\n",
       "    </tr>\n",
       "    <tr>\n",
       "      <th>4</th>\n",
       "      <td>Veículo automotor terrestre: caminhão, automóv...</td>\n",
       "      <td>R$ 26.500,00</td>\n",
       "    </tr>\n",
       "    <tr>\n",
       "      <th>5</th>\n",
       "      <td>Quotas ou quinhões de capital</td>\n",
       "      <td>R$ 249,00</td>\n",
       "    </tr>\n",
       "    <tr>\n",
       "      <th>6</th>\n",
       "      <td>Ações (inclusive as provenientes de linha tele...</td>\n",
       "      <td>R$ 0,00</td>\n",
       "    </tr>\n",
       "  </tbody>\n",
       "</table>\n",
       "</div>"
      ],
      "text/plain": [
       "                               DS_TIPO_BEM_CANDIDATO VR_BEM_CANDIDATO\n",
       "0                                               Casa  R$ 1.142.303,54\n",
       "1                              Caderneta de poupança    R$ 591.047,58\n",
       "2        Depósito bancário em conta corrente no País    R$ 316.524,61\n",
       "3                                        Apartamento    R$ 240.930,00\n",
       "4  Veículo automotor terrestre: caminhão, automóv...     R$ 26.500,00\n",
       "5                      Quotas ou quinhões de capital        R$ 249,00\n",
       "6  Ações (inclusive as provenientes de linha tele...          R$ 0,00"
      ]
     },
     "execution_count": 28,
     "metadata": {},
     "output_type": "execute_result"
    }
   ],
   "source": [
    "extratoInvestimento('JAIR MESSIAS BOLSONARO')"
   ]
  },
  {
   "cell_type": "markdown",
   "metadata": {},
   "source": [
    "---"
   ]
  },
  {
   "cell_type": "markdown",
   "metadata": {},
   "source": [
    "## 3.0.**CANDIDATOS DEPUTADO FEDERAL**"
   ]
  },
  {
   "cell_type": "markdown",
   "metadata": {},
   "source": [
    "### **CANDITADOS A DEPUTADO FEDERAL <font style =\"color: blue\"> POR PARTIDO </font>**\n",
    "\n",
    "O partido Republicanos é o paritido que possui o maior numero de candidatos.\n",
    "\n",
    "Também podemos observar que todos os partidos possuem um número muito parecido de candidatos. "
   ]
  },
  {
   "cell_type": "code",
   "execution_count": 29,
   "metadata": {},
   "outputs": [
    {
     "data": {
      "text/plain": [
       "SG_PARTIDO\n",
       "REPUBLICANOS     519\n",
       "UNIÃO            511\n",
       "PL               503\n",
       "PP               503\n",
       "PODE             495\n",
       "PTB              490\n",
       "PROS             487\n",
       "MDB              483\n",
       "PDT              469\n",
       "PATRIOTA         468\n",
       "PSB              448\n",
       "PSD              420\n",
       "PSC              419\n",
       "AVANTE           414\n",
       "SOLIDARIEDADE    404\n",
       "PT               369\n",
       "AGIR             364\n",
       "PRTB             336\n",
       "PSDB             327\n",
       "PSOL             310\n",
       "dtype: int64"
      ]
     },
     "execution_count": 29,
     "metadata": {},
     "output_type": "execute_result"
    }
   ],
   "source": [
    "deputados = df1.query('DS_CARGO == \"DEPUTADO FEDERAL\"')\n",
    "deputados.groupby(['SG_PARTIDO']).size().sort_values(ascending = False).head(20)"
   ]
  },
  {
   "cell_type": "markdown",
   "metadata": {},
   "source": [
    "## 3.1.**CANDIDATOS POR <font style = \"color:blue\"> GENERO POR PARTIDO </font>**\n",
    "\n",
    "Apenas 34% dos candidatos é do sexo feminino"
   ]
  },
  {
   "cell_type": "code",
   "execution_count": 30,
   "metadata": {},
   "outputs": [
    {
     "name": "stdout",
     "output_type": "stream",
     "text": [
      "Quantidade em número absoluto\n",
      "           GENERO  QUANTIDADE\n",
      "0       MASCULINO        6765\n",
      "1        FEMININO        3598\n",
      "2  NÃO DIVULGÁVEL           2\n",
      "\n",
      "Quantidade em percentual\n",
      "           GENERO  QUANTIDADE\n",
      "0       MASCULINO       65.27\n",
      "1        FEMININO       34.71\n",
      "2  NÃO DIVULGÁVEL        0.02\n",
      "\n"
     ]
    },
    {
     "data": {
      "image/png": "[encoded data removed]",
      "text/plain": [
       "<Figure size 864x360 with 1 Axes>"
      ]
     },
     "metadata": {},
     "output_type": "display_data"
    }
   ],
   "source": [
    "from locale import normalize\n",
    "\n",
    "\n",
    "imagem = sns.countplot(data = deputados, x = 'DS_GENERO')\n",
    "imagem.set_ylabel('Quantidade', fontsize = 12);\n",
    "imagem.set_xlabel('GENERO')\n",
    "imagem.set_title('GENERO DOS CANDIDATOS', fontsize = 25)\n",
    "imagem.figure.set_size_inches(12,5)\n",
    "\n",
    "print('Quantidade em número absoluto')\n",
    "dados = deputados['DS_GENERO'].value_counts().reset_index()\n",
    "dados.rename(columns = {'index':'GENERO', 'DS_GENERO':'QUANTIDADE'}, inplace = True)\n",
    "print(dados)\n",
    "print()\n",
    "\n",
    "print('Quantidade em percentual')\n",
    "dados1 = deputados['DS_GENERO'].value_counts(normalize = True) * 100\n",
    "dados1 = dados1.reset_index()\n",
    "dados1.rename(columns = {'index':'GENERO', 'DS_GENERO':'QUANTIDADE'}, inplace = True)\n",
    "dados1['QUANTIDADE'] = round(dados1['QUANTIDADE'],2)\n",
    "print(dados1)\n",
    "print()\n"
   ]
  },
  {
   "cell_type": "markdown",
   "metadata": {},
   "source": [
    "### 3.2.**CANDIDATOS SEXO<font style = \"color:red\"> FEMININO</font> POR PARTIDO**"
   ]
  },
  {
   "cell_type": "code",
   "execution_count": 31,
   "metadata": {},
   "outputs": [
    {
     "data": {
      "text/html": [
       "<div>\n",
       "<style scoped>\n",
       "    .dataframe tbody tr th:only-of-type {\n",
       "        vertical-align: middle;\n",
       "    }\n",
       "\n",
       "    .dataframe tbody tr th {\n",
       "        vertical-align: top;\n",
       "    }\n",
       "\n",
       "    .dataframe thead th {\n",
       "        text-align: right;\n",
       "    }\n",
       "</style>\n",
       "<table border=\"1\" class=\"dataframe\">\n",
       "  <thead>\n",
       "    <tr style=\"text-align: right;\">\n",
       "      <th></th>\n",
       "      <th>PARTIDO</th>\n",
       "      <th>SG_PARTIDO</th>\n",
       "    </tr>\n",
       "  </thead>\n",
       "  <tbody>\n",
       "    <tr>\n",
       "      <th>0</th>\n",
       "      <td>PROS</td>\n",
       "      <td>178</td>\n",
       "    </tr>\n",
       "    <tr>\n",
       "      <th>1</th>\n",
       "      <td>UNIÃO</td>\n",
       "      <td>177</td>\n",
       "    </tr>\n",
       "    <tr>\n",
       "      <th>2</th>\n",
       "      <td>REPUBLICANOS</td>\n",
       "      <td>173</td>\n",
       "    </tr>\n",
       "    <tr>\n",
       "      <th>3</th>\n",
       "      <td>PP</td>\n",
       "      <td>169</td>\n",
       "    </tr>\n",
       "    <tr>\n",
       "      <th>4</th>\n",
       "      <td>PODE</td>\n",
       "      <td>168</td>\n",
       "    </tr>\n",
       "  </tbody>\n",
       "</table>\n",
       "</div>"
      ],
      "text/plain": [
       "        PARTIDO  SG_PARTIDO\n",
       "0          PROS         178\n",
       "1         UNIÃO         177\n",
       "2  REPUBLICANOS         173\n",
       "3            PP         169\n",
       "4          PODE         168"
      ]
     },
     "execution_count": 31,
     "metadata": {},
     "output_type": "execute_result"
    },
    {
     "data": {
      "image/png": "[encoded data removed]",
      "text/plain": [
       "<Figure size 864x360 with 1 Axes>"
      ]
     },
     "metadata": {},
     "output_type": "display_data"
    }
   ],
   "source": [
    "feminino = deputados.query('DS_GENERO == \"FEMININO\"')\n",
    "temp = feminino['SG_PARTIDO'].value_counts().reset_index().head(5)\n",
    "temp.rename(columns={'index':'PARTIDO'}, inplace = True)\n",
    "\n",
    "imagem = sns.barplot(data = temp, x = 'SG_PARTIDO', y = 'PARTIDO')\n",
    "imagem.set_ylabel('Partido', fontsize = 12);\n",
    "imagem.set_xlabel('Quantidade')\n",
    "imagem.set_title('CANDIDATAS FEMININOS POR PARTIDO', fontsize = 25)\n",
    "imagem.figure.set_size_inches(12,5)\n",
    "\n",
    "temp"
   ]
  },
  {
   "cell_type": "markdown",
   "metadata": {},
   "source": [
    "### 3.3.**CANDIDATOS SEXO<font style = \"color:blue\"> MASCULINO</font> POR PARTIDO**"
   ]
  },
  {
   "cell_type": "code",
   "execution_count": 32,
   "metadata": {},
   "outputs": [
    {
     "data": {
      "text/html": [
       "<div>\n",
       "<style scoped>\n",
       "    .dataframe tbody tr th:only-of-type {\n",
       "        vertical-align: middle;\n",
       "    }\n",
       "\n",
       "    .dataframe tbody tr th {\n",
       "        vertical-align: top;\n",
       "    }\n",
       "\n",
       "    .dataframe thead th {\n",
       "        text-align: right;\n",
       "    }\n",
       "</style>\n",
       "<table border=\"1\" class=\"dataframe\">\n",
       "  <thead>\n",
       "    <tr style=\"text-align: right;\">\n",
       "      <th></th>\n",
       "      <th>PARTIDO</th>\n",
       "      <th>SG_PARTIDO</th>\n",
       "    </tr>\n",
       "  </thead>\n",
       "  <tbody>\n",
       "    <tr>\n",
       "      <th>0</th>\n",
       "      <td>REPUBLICANOS</td>\n",
       "      <td>346</td>\n",
       "    </tr>\n",
       "    <tr>\n",
       "      <th>1</th>\n",
       "      <td>PL</td>\n",
       "      <td>340</td>\n",
       "    </tr>\n",
       "    <tr>\n",
       "      <th>2</th>\n",
       "      <td>PP</td>\n",
       "      <td>334</td>\n",
       "    </tr>\n",
       "    <tr>\n",
       "      <th>3</th>\n",
       "      <td>UNIÃO</td>\n",
       "      <td>334</td>\n",
       "    </tr>\n",
       "    <tr>\n",
       "      <th>4</th>\n",
       "      <td>PTB</td>\n",
       "      <td>330</td>\n",
       "    </tr>\n",
       "  </tbody>\n",
       "</table>\n",
       "</div>"
      ],
      "text/plain": [
       "        PARTIDO  SG_PARTIDO\n",
       "0  REPUBLICANOS         346\n",
       "1            PL         340\n",
       "2            PP         334\n",
       "3         UNIÃO         334\n",
       "4           PTB         330"
      ]
     },
     "execution_count": 32,
     "metadata": {},
     "output_type": "execute_result"
    },
    {
     "data": {
      "image/png": "[encoded data removed]",
      "text/plain": [
       "<Figure size 864x360 with 1 Axes>"
      ]
     },
     "metadata": {},
     "output_type": "display_data"
    }
   ],
   "source": [
    "feminino = deputados.query('DS_GENERO == \"MASCULINO\"')\n",
    "temp = feminino['SG_PARTIDO'].value_counts().reset_index().head(5)\n",
    "temp.rename(columns={'index':'PARTIDO'}, inplace = True)\n",
    "\n",
    "imagem = sns.barplot(data = temp, x = 'SG_PARTIDO', y = 'PARTIDO')\n",
    "imagem.set_ylabel('Partido', fontsize = 12);\n",
    "imagem.set_xlabel('Quantidade')\n",
    "imagem.set_title('CANDIDATOS MASCULINOS POR PARTIDO', fontsize = 25)\n",
    "imagem.figure.set_size_inches(12,5)\n",
    "\n",
    "temp"
   ]
  },
  {
   "cell_type": "markdown",
   "metadata": {},
   "source": [
    "---"
   ]
  },
  {
   "cell_type": "markdown",
   "metadata": {},
   "source": [
    "### 3.4.**ESCOLARIDADE DOS CANDIDATOS**\n",
    "\n",
    "Pode-se observar que assim como nas candidaturas a presidencia, os deputados possuem um alto grau de Instrução. \n",
    "\n",
    "Quase 60% dos candidatos possui curso superior."
   ]
  },
  {
   "cell_type": "code",
   "execution_count": 33,
   "metadata": {},
   "outputs": [
    {
     "name": "stdout",
     "output_type": "stream",
     "text": [
      "\n",
      "               GRAU DE INSTRUCAO  PERCENTUAL\n",
      "0              SUPERIOR COMPLETO       58.08\n",
      "1          ENSINO MÉDIO COMPLETO       23.65\n",
      "2            SUPERIOR INCOMPLETO        9.26\n",
      "3    ENSINO FUNDAMENTAL COMPLETO        3.97\n",
      "4  ENSINO FUNDAMENTAL INCOMPLETO        2.18\n",
      "5        ENSINO MÉDIO INCOMPLETO        2.03\n",
      "6                   LÊ E ESCREVE        0.82\n",
      "7                 NÃO DIVULGÁVEL        0.02\n",
      "\n"
     ]
    },
    {
     "data": {
      "image/png": "[encoded data removed]",
      "text/plain": [
       "<Figure size 1080x360 with 1 Axes>"
      ]
     },
     "metadata": {},
     "output_type": "display_data"
    }
   ],
   "source": [
    "temp = round(deputados['DS_GRAU_INSTRUCAO'].value_counts(normalize = True) * 100,2)\n",
    "temp = temp.reset_index()\n",
    "temp.rename(columns = {'index': 'GRAU DE INSTRUCAO', 'DS_GRAU_INSTRUCAO':'PERCENTUAL'}, inplace = True)\n",
    "\n",
    "\n",
    "imagem = sns.barplot(data = temp, y = 'GRAU DE INSTRUCAO', x = 'PERCENTUAL' )\n",
    "imagem.set_ylabel('GRAU DE INSTRUÇÃO', fontsize = 12);\n",
    "imagem.set_xlabel('PERCENTUAL')\n",
    "imagem.set_title('GRAU DE INSTRUÇÃO', fontsize = 25)\n",
    "imagem.figure.set_size_inches(15,5)\n",
    "\n",
    "print()\n",
    "print(temp)\n",
    "print()"
   ]
  },
  {
   "cell_type": "markdown",
   "metadata": {},
   "source": [
    "### 3.5.**CURSO SUPERIOR POR PARTIDO**\n",
    "\n",
    "O partido que mais possui candidatos com curso Superior é o partido União."
   ]
  },
  {
   "cell_type": "code",
   "execution_count": 34,
   "metadata": {},
   "outputs": [
    {
     "name": "stdout",
     "output_type": "stream",
     "text": [
      "\n",
      "     SG_PARTIDO  QUANTIDADE\n",
      "0         UNIÃO         359\n",
      "1            PL         346\n",
      "2  REPUBLICANOS         335\n",
      "3            PP         322\n",
      "4           MDB         307\n",
      "\n"
     ]
    },
    {
     "data": {
      "image/png": "[encoded data removed]",
      "text/plain": [
       "<Figure size 1080x360 with 1 Axes>"
      ]
     },
     "metadata": {},
     "output_type": "display_data"
    }
   ],
   "source": [
    "temp = deputados.query('DS_GRAU_INSTRUCAO == \"SUPERIOR COMPLETO\"').groupby(['SG_PARTIDO']).size().sort_values(ascending = False).reset_index().head()\n",
    "temp.rename(columns={0:'QUANTIDADE'}, inplace = True)\n",
    "\n",
    "imagem = sns.barplot(data = temp, y = 'SG_PARTIDO', x = 'QUANTIDADE' )\n",
    "imagem.set_ylabel('GRAU DE INSTRUÇÃO', fontsize = 12);\n",
    "imagem.set_xlabel('PERCENTUAL')\n",
    "imagem.set_title('CURSO SUPERIOR POR PARTIDO', fontsize = 25)\n",
    "imagem.figure.set_size_inches(15,5)\n",
    "\n",
    "print()\n",
    "print(temp)\n",
    "print()\n"
   ]
  },
  {
   "cell_type": "markdown",
   "metadata": {},
   "source": [
    "### 3.6.**CANDIDATOS COM CURSO SUPEDIOR DO SEXO MASCULINO**\n",
    "\n",
    "A esmagadora maioria dos candidatos possui curso superior."
   ]
  },
  {
   "cell_type": "code",
   "execution_count": 35,
   "metadata": {},
   "outputs": [
    {
     "name": "stdout",
     "output_type": "stream",
     "text": [
      "\n",
      "                           index  DS_GRAU_INSTRUCAO\n",
      "0              SUPERIOR COMPLETO               58.0\n",
      "1          ENSINO MÉDIO COMPLETO               23.0\n",
      "2            SUPERIOR INCOMPLETO                9.0\n",
      "3    ENSINO FUNDAMENTAL COMPLETO                4.0\n",
      "4  ENSINO FUNDAMENTAL INCOMPLETO                3.0\n",
      "5        ENSINO MÉDIO INCOMPLETO                2.0\n",
      "6                   LÊ E ESCREVE                1.0\n",
      "\n"
     ]
    },
    {
     "data": {
      "image/png": "[encoded data removed]",
      "text/plain": [
       "<Figure size 1080x360 with 1 Axes>"
      ]
     },
     "metadata": {},
     "output_type": "display_data"
    }
   ],
   "source": [
    "temp = round(deputados.query('DS_GENERO == \"MASCULINO\"')['DS_GRAU_INSTRUCAO'].value_counts(normalize = True) * 100)\n",
    "temp = temp.reset_index()\n",
    "\n",
    "imagem = sns.barplot(data = temp, y = 'index', x = 'DS_GRAU_INSTRUCAO' )\n",
    "imagem.set_ylabel('GRAU DE INSTRUÇÃO', fontsize = 12);\n",
    "imagem.set_xlabel('PERCENTUAL')\n",
    "imagem.set_title('CURSO SUPERIOR GENERO MASCULINO', fontsize = 25)\n",
    "imagem.figure.set_size_inches(15,5)\n",
    "\n",
    "print()\n",
    "print(temp)\n",
    "print()"
   ]
  },
  {
   "cell_type": "markdown",
   "metadata": {},
   "source": [
    "### 3.7.**CANDIDATOS COM CURSO SUPEDIOR DO SEXO FEMININO**\n",
    "\n",
    "A esmagadora maioria dos candidatos possui curso superior."
   ]
  },
  {
   "cell_type": "code",
   "execution_count": 36,
   "metadata": {},
   "outputs": [
    {
     "name": "stdout",
     "output_type": "stream",
     "text": [
      "\n",
      "                           index  DS_GRAU_INSTRUCAO\n",
      "0              SUPERIOR COMPLETO               58.0\n",
      "1          ENSINO MÉDIO COMPLETO               25.0\n",
      "2            SUPERIOR INCOMPLETO                9.0\n",
      "3    ENSINO FUNDAMENTAL COMPLETO                4.0\n",
      "4        ENSINO MÉDIO INCOMPLETO                2.0\n",
      "5  ENSINO FUNDAMENTAL INCOMPLETO                1.0\n",
      "6                   LÊ E ESCREVE                1.0\n",
      "\n"
     ]
    },
    {
     "data": {
      "image/png": "[encoded data removed]",
      "text/plain": [
       "<Figure size 1080x360 with 1 Axes>"
      ]
     },
     "metadata": {},
     "output_type": "display_data"
    }
   ],
   "source": [
    "temp = round(deputados.query('DS_GENERO == \"FEMININO\"')['DS_GRAU_INSTRUCAO'].value_counts(normalize = True) * 100)\n",
    "temp = temp.reset_index()\n",
    "\n",
    "imagem = sns.barplot(data = temp, y = 'index', x = 'DS_GRAU_INSTRUCAO' )\n",
    "imagem.set_ylabel('GRAU DE INSTRUÇÃO', fontsize = 12);\n",
    "imagem.set_xlabel('PERCENTUAL')\n",
    "imagem.set_title('CURSO SUPERIOR GENERO FEMININO', fontsize = 25)\n",
    "imagem.figure.set_size_inches(15,5)\n",
    "\n",
    "print()\n",
    "print(temp)\n",
    "print()"
   ]
  },
  {
   "cell_type": "markdown",
   "metadata": {},
   "source": [
    "### 3.8.**RAÇA COR X ESTADO CIVIL X GRAU DE INSTRUCAO**"
   ]
  },
  {
   "cell_type": "markdown",
   "metadata": {},
   "source": [
    "### **PERCENTUAL DE PESSOAS POR RAÇA_COR**"
   ]
  },
  {
   "cell_type": "code",
   "execution_count": 37,
   "metadata": {},
   "outputs": [
    {
     "name": "stdout",
     "output_type": "stream",
     "text": [
      "\n",
      "            index  DS_COR_RACA\n",
      "0          BRANCA         50.0\n",
      "1           PARDA         34.0\n",
      "2           PRETA         14.0\n",
      "3   NÃO INFORMADO          1.0\n",
      "4        INDÍGENA          1.0\n",
      "5         AMARELA          0.0\n",
      "6  NÃO DIVULGÁVEL          0.0\n"
     ]
    },
    {
     "data": {
      "image/png": "[encoded data removed]",
      "text/plain": [
       "<Figure size 1080x360 with 1 Axes>"
      ]
     },
     "metadata": {},
     "output_type": "display_data"
    }
   ],
   "source": [
    "temp = round(deputados['DS_COR_RACA'].value_counts(normalize = True)*100)\n",
    "temp = temp.reset_index()\n",
    "\n",
    "\n",
    "imagem = sns.barplot(data = temp, x = 'index', y = 'DS_COR_RACA' )\n",
    "imagem.set_ylabel('PERCENTUAL', fontsize = 12);\n",
    "imagem.set_xlabel('COR X RAÇA')\n",
    "imagem.set_title('RAÇA X COR', fontsize = 25)\n",
    "imagem.figure.set_size_inches(15,5)\n",
    "\n",
    "print()\n",
    "print(temp)"
   ]
  },
  {
   "cell_type": "code",
   "execution_count": null,
   "metadata": {},
   "outputs": [],
   "source": []
  },
  {
   "cell_type": "code",
   "execution_count": 38,
   "metadata": {},
   "outputs": [
    {
     "name": "stdout",
     "output_type": "stream",
     "text": [
      "\n",
      "              DS_ESTADO_CIVIL  QUANTIDADE  PERCENTUAL\n",
      "25                  CASADO(A)        3357       32.39\n",
      "28                SOLTEIRO(A)        1596       15.40\n",
      "26              DIVORCIADO(A)         895        8.63\n",
      "29                   VIÚVO(A)         119        1.15\n",
      "27  SEPARADO(A) JUDICIALMENTE          53        0.51\n",
      "\n"
     ]
    },
    {
     "data": {
      "image/png": "[encoded data removed]",
      "text/plain": [
       "<Figure size 1080x360 with 1 Axes>"
      ]
     },
     "metadata": {},
     "output_type": "display_data"
    }
   ],
   "source": [
    "from turtle import color\n",
    "\n",
    "\n",
    "temp = deputados.groupby(['DS_GRAU_INSTRUCAO','DS_ESTADO_CIVIL']).size().reset_index()\\\n",
    "    .query('DS_GRAU_INSTRUCAO == \"SUPERIOR COMPLETO\"').sort_values(by = 0, ascending  = False)\n",
    "\n",
    "temp.rename(columns= {0:'QUANTIDADE'}, inplace  = True)\n",
    "temp['PERCENTUAL'] = round((temp['QUANTIDADE'] / deputados['DS_ESTADO_CIVIL'].count()) * 100,2)\n",
    "\n",
    "temp.drop('DS_GRAU_INSTRUCAO', axis = 1, inplace = True)\n",
    "\n",
    "\n",
    "imagem = sns.barplot(data = temp, y = 'PERCENTUAL', x = 'DS_ESTADO_CIVIL' )\n",
    "imagem.set_ylabel('PERCENTUAL', fontsize = 12);\n",
    "imagem.set_xlabel('ESTADO CIVIL')\n",
    "imagem.set_title('ESTADO CIVIL', fontsize = 25)\n",
    "imagem.figure.set_size_inches(15,5)\n",
    "\n",
    "print()\n",
    "print(temp)\n",
    "print()"
   ]
  },
  {
   "cell_type": "markdown",
   "metadata": {},
   "source": [
    ">A grande maioria dos candidatos é casada e de cor branca"
   ]
  },
  {
   "cell_type": "markdown",
   "metadata": {},
   "source": [
    "---"
   ]
  },
  {
   "cell_type": "markdown",
   "metadata": {},
   "source": [
    "### 3.8.**COR_RAÇA X ENSINO SUPERIOR**\n",
    "\n",
    "A ideia aqui é tentar entender qual das raças possui mais pessoas com nivel superior de educação"
   ]
  },
  {
   "cell_type": "code",
   "execution_count": 39,
   "metadata": {},
   "outputs": [
    {
     "name": "stdout",
     "output_type": "stream",
     "text": [
      "\n",
      "      DS_COR_RACA  QUANTIDADE  PERCENTUAL\n",
      "9          BRANCA        3471       33.49\n",
      "29          PARDA        1796       17.33\n",
      "36          PRETA         667        6.44\n",
      "2         AMARELA          30        0.29\n",
      "15       INDÍGENA          28        0.27\n",
      "22  NÃO INFORMADO          28        0.27\n",
      "\n"
     ]
    },
    {
     "data": {
      "image/png": "[encoded data removed]",
      "text/plain": [
       "<Figure size 1080x360 with 1 Axes>"
      ]
     },
     "metadata": {},
     "output_type": "display_data"
    }
   ],
   "source": [
    "temp = deputados.groupby(['DS_COR_RACA','DS_GRAU_INSTRUCAO',]).size().reset_index()\\\n",
    "    .query('DS_GRAU_INSTRUCAO == \"SUPERIOR COMPLETO\"').sort_values(by = 0, ascending  = False)\n",
    "\n",
    "temp.rename(columns={0:'QUANTIDADE'}, inplace = True)\n",
    "temp['PERCENTUAL'] = round((temp['QUANTIDADE'] / deputados['DS_ESTADO_CIVIL'].count()) * 100,2)\n",
    "\n",
    "temp.drop(['DS_GRAU_INSTRUCAO'], axis = 1, inplace = True)\n",
    "\n",
    "imagem = sns.barplot(data = temp, x = 'DS_COR_RACA', y = 'PERCENTUAL' )\n",
    "imagem.set_ylabel('PERCENTUAL', fontsize = 12);\n",
    "imagem.set_xlabel('COR_RAÇA')\n",
    "imagem.set_title('COR_RAÇA X ENSINO SUPERIOR', fontsize = 25)\n",
    "imagem.figure.set_size_inches(15,5)\n",
    "\n",
    "print()\n",
    "print(temp)\n",
    "print()"
   ]
  },
  {
   "cell_type": "markdown",
   "metadata": {},
   "source": [
    "> A grande maioria das pessoas que pessui ensino superior é da cor branca"
   ]
  },
  {
   "cell_type": "markdown",
   "metadata": {},
   "source": [
    "---"
   ]
  },
  {
   "cell_type": "markdown",
   "metadata": {},
   "source": [
    "## 4.0.**PATRIMONIO DOS CANDIDATOS A DEPUTADOR FEDERAL**"
   ]
  },
  {
   "cell_type": "markdown",
   "metadata": {},
   "source": [
    "Fazendo o merge entre o DataFrame de deputados com o DataFrame de Patrimonio dos candidatos"
   ]
  },
  {
   "cell_type": "code",
   "execution_count": 40,
   "metadata": {},
   "outputs": [
    {
     "data": {
      "text/html": [
       "<div>\n",
       "<style scoped>\n",
       "    .dataframe tbody tr th:only-of-type {\n",
       "        vertical-align: middle;\n",
       "    }\n",
       "\n",
       "    .dataframe tbody tr th {\n",
       "        vertical-align: top;\n",
       "    }\n",
       "\n",
       "    .dataframe thead th {\n",
       "        text-align: right;\n",
       "    }\n",
       "</style>\n",
       "<table border=\"1\" class=\"dataframe\">\n",
       "  <thead>\n",
       "    <tr style=\"text-align: right;\">\n",
       "      <th></th>\n",
       "      <th>NM_TIPO_ELEICAO</th>\n",
       "      <th>SG_UE</th>\n",
       "      <th>DS_CARGO</th>\n",
       "      <th>SQ_CANDIDATO</th>\n",
       "      <th>NM_CANDIDATO</th>\n",
       "      <th>DS_SITUACAO_CANDIDATURA</th>\n",
       "      <th>SG_PARTIDO</th>\n",
       "      <th>DS_NACIONALIDADE</th>\n",
       "      <th>DS_GENERO</th>\n",
       "      <th>DS_GRAU_INSTRUCAO</th>\n",
       "      <th>DS_ESTADO_CIVIL</th>\n",
       "      <th>DS_COR_RACA</th>\n",
       "      <th>ANO_ELEICAO</th>\n",
       "      <th>NM_UE</th>\n",
       "      <th>DS_TIPO_BEM_CANDIDATO</th>\n",
       "      <th>VR_BEM_CANDIDATO</th>\n",
       "    </tr>\n",
       "  </thead>\n",
       "  <tbody>\n",
       "    <tr>\n",
       "      <th>0</th>\n",
       "      <td>ELEIÇÃO ORDINÁRIA</td>\n",
       "      <td>SP</td>\n",
       "      <td>DEPUTADO FEDERAL</td>\n",
       "      <td>250001622077</td>\n",
       "      <td>GEFFERSON LUIS DE SOUSA ROSA</td>\n",
       "      <td>CADASTRADO</td>\n",
       "      <td>AVANTE</td>\n",
       "      <td>BRASILEIRA NATA</td>\n",
       "      <td>MASCULINO</td>\n",
       "      <td>SUPERIOR COMPLETO</td>\n",
       "      <td>CASADO(A)</td>\n",
       "      <td>BRANCA</td>\n",
       "      <td>NaN</td>\n",
       "      <td>NaN</td>\n",
       "      <td>NaN</td>\n",
       "      <td>NaN</td>\n",
       "    </tr>\n",
       "    <tr>\n",
       "      <th>1</th>\n",
       "      <td>ELEIÇÃO ORDINÁRIA</td>\n",
       "      <td>PR</td>\n",
       "      <td>DEPUTADO FEDERAL</td>\n",
       "      <td>160001654838</td>\n",
       "      <td>PAULO CESAR ROSSI</td>\n",
       "      <td>CADASTRADO</td>\n",
       "      <td>REPUBLICANOS</td>\n",
       "      <td>BRASILEIRA NATA</td>\n",
       "      <td>MASCULINO</td>\n",
       "      <td>SUPERIOR COMPLETO</td>\n",
       "      <td>DIVORCIADO(A)</td>\n",
       "      <td>PARDA</td>\n",
       "      <td>2022.0</td>\n",
       "      <td>PARANÁ</td>\n",
       "      <td>Terreno</td>\n",
       "      <td>5000,00</td>\n",
       "    </tr>\n",
       "    <tr>\n",
       "      <th>2</th>\n",
       "      <td>ELEIÇÃO ORDINÁRIA</td>\n",
       "      <td>PR</td>\n",
       "      <td>DEPUTADO FEDERAL</td>\n",
       "      <td>160001654838</td>\n",
       "      <td>PAULO CESAR ROSSI</td>\n",
       "      <td>CADASTRADO</td>\n",
       "      <td>REPUBLICANOS</td>\n",
       "      <td>BRASILEIRA NATA</td>\n",
       "      <td>MASCULINO</td>\n",
       "      <td>SUPERIOR COMPLETO</td>\n",
       "      <td>DIVORCIADO(A)</td>\n",
       "      <td>PARDA</td>\n",
       "      <td>2022.0</td>\n",
       "      <td>PARANÁ</td>\n",
       "      <td>Aplicação de renda fixa (CDB, RDB e outros)</td>\n",
       "      <td>3017,47</td>\n",
       "    </tr>\n",
       "    <tr>\n",
       "      <th>3</th>\n",
       "      <td>ELEIÇÃO ORDINÁRIA</td>\n",
       "      <td>PR</td>\n",
       "      <td>DEPUTADO FEDERAL</td>\n",
       "      <td>160001654838</td>\n",
       "      <td>PAULO CESAR ROSSI</td>\n",
       "      <td>CADASTRADO</td>\n",
       "      <td>REPUBLICANOS</td>\n",
       "      <td>BRASILEIRA NATA</td>\n",
       "      <td>MASCULINO</td>\n",
       "      <td>SUPERIOR COMPLETO</td>\n",
       "      <td>DIVORCIADO(A)</td>\n",
       "      <td>PARDA</td>\n",
       "      <td>2022.0</td>\n",
       "      <td>PARANÁ</td>\n",
       "      <td>Veículo automotor terrestre: caminhão, automóv...</td>\n",
       "      <td>148000,00</td>\n",
       "    </tr>\n",
       "    <tr>\n",
       "      <th>4</th>\n",
       "      <td>ELEIÇÃO ORDINÁRIA</td>\n",
       "      <td>PR</td>\n",
       "      <td>DEPUTADO FEDERAL</td>\n",
       "      <td>160001654838</td>\n",
       "      <td>PAULO CESAR ROSSI</td>\n",
       "      <td>CADASTRADO</td>\n",
       "      <td>REPUBLICANOS</td>\n",
       "      <td>BRASILEIRA NATA</td>\n",
       "      <td>MASCULINO</td>\n",
       "      <td>SUPERIOR COMPLETO</td>\n",
       "      <td>DIVORCIADO(A)</td>\n",
       "      <td>PARDA</td>\n",
       "      <td>2022.0</td>\n",
       "      <td>PARANÁ</td>\n",
       "      <td>Aplicação de renda fixa (CDB, RDB e outros)</td>\n",
       "      <td>7503,44</td>\n",
       "    </tr>\n",
       "  </tbody>\n",
       "</table>\n",
       "</div>"
      ],
      "text/plain": [
       "     NM_TIPO_ELEICAO SG_UE          DS_CARGO  SQ_CANDIDATO  \\\n",
       "0  ELEIÇÃO ORDINÁRIA    SP  DEPUTADO FEDERAL  250001622077   \n",
       "1  ELEIÇÃO ORDINÁRIA    PR  DEPUTADO FEDERAL  160001654838   \n",
       "2  ELEIÇÃO ORDINÁRIA    PR  DEPUTADO FEDERAL  160001654838   \n",
       "3  ELEIÇÃO ORDINÁRIA    PR  DEPUTADO FEDERAL  160001654838   \n",
       "4  ELEIÇÃO ORDINÁRIA    PR  DEPUTADO FEDERAL  160001654838   \n",
       "\n",
       "                   NM_CANDIDATO DS_SITUACAO_CANDIDATURA    SG_PARTIDO  \\\n",
       "0  GEFFERSON LUIS DE SOUSA ROSA              CADASTRADO        AVANTE   \n",
       "1             PAULO CESAR ROSSI              CADASTRADO  REPUBLICANOS   \n",
       "2             PAULO CESAR ROSSI              CADASTRADO  REPUBLICANOS   \n",
       "3             PAULO CESAR ROSSI              CADASTRADO  REPUBLICANOS   \n",
       "4             PAULO CESAR ROSSI              CADASTRADO  REPUBLICANOS   \n",
       "\n",
       "  DS_NACIONALIDADE  DS_GENERO  DS_GRAU_INSTRUCAO DS_ESTADO_CIVIL DS_COR_RACA  \\\n",
       "0  BRASILEIRA NATA  MASCULINO  SUPERIOR COMPLETO       CASADO(A)      BRANCA   \n",
       "1  BRASILEIRA NATA  MASCULINO  SUPERIOR COMPLETO   DIVORCIADO(A)       PARDA   \n",
       "2  BRASILEIRA NATA  MASCULINO  SUPERIOR COMPLETO   DIVORCIADO(A)       PARDA   \n",
       "3  BRASILEIRA NATA  MASCULINO  SUPERIOR COMPLETO   DIVORCIADO(A)       PARDA   \n",
       "4  BRASILEIRA NATA  MASCULINO  SUPERIOR COMPLETO   DIVORCIADO(A)       PARDA   \n",
       "\n",
       "   ANO_ELEICAO   NM_UE                              DS_TIPO_BEM_CANDIDATO  \\\n",
       "0          NaN     NaN                                                NaN   \n",
       "1       2022.0  PARANÁ                                            Terreno   \n",
       "2       2022.0  PARANÁ        Aplicação de renda fixa (CDB, RDB e outros)   \n",
       "3       2022.0  PARANÁ  Veículo automotor terrestre: caminhão, automóv...   \n",
       "4       2022.0  PARANÁ        Aplicação de renda fixa (CDB, RDB e outros)   \n",
       "\n",
       "  VR_BEM_CANDIDATO  \n",
       "0              NaN  \n",
       "1          5000,00  \n",
       "2          3017,47  \n",
       "3        148000,00  \n",
       "4          7503,44  "
      ]
     },
     "execution_count": 40,
     "metadata": {},
     "output_type": "execute_result"
    }
   ],
   "source": [
    "\n",
    "patrimonioDep = deputados.merge(df, how = 'left')\n",
    "\n",
    "patrimonioDep.head()\n"
   ]
  },
  {
   "cell_type": "code",
   "execution_count": 41,
   "metadata": {},
   "outputs": [
    {
     "data": {
      "text/plain": [
       "NM_TIPO_ELEICAO               0\n",
       "SG_UE                         0\n",
       "DS_CARGO                      0\n",
       "SQ_CANDIDATO                  0\n",
       "NM_CANDIDATO                  0\n",
       "DS_SITUACAO_CANDIDATURA       0\n",
       "SG_PARTIDO                    0\n",
       "DS_NACIONALIDADE              0\n",
       "DS_GENERO                     0\n",
       "DS_GRAU_INSTRUCAO             0\n",
       "DS_ESTADO_CIVIL               0\n",
       "DS_COR_RACA                   0\n",
       "ANO_ELEICAO                3737\n",
       "NM_UE                      3737\n",
       "DS_TIPO_BEM_CANDIDATO      3737\n",
       "VR_BEM_CANDIDATO           3737\n",
       "dtype: int64"
      ]
     },
     "execution_count": 41,
     "metadata": {},
     "output_type": "execute_result"
    }
   ],
   "source": [
    "# Veriricando a existencia e quantidade de dadnos nulos no DataFrame\n",
    "patrimonioDep.isnull().sum()"
   ]
  },
  {
   "cell_type": "code",
   "execution_count": 42,
   "metadata": {},
   "outputs": [],
   "source": [
    "# Limpando os dados Nulos com o Dropna.\n",
    "patrimonioDep.dropna(inplace = True)"
   ]
  },
  {
   "cell_type": "code",
   "execution_count": 43,
   "metadata": {},
   "outputs": [
    {
     "data": {
      "text/plain": [
       "NM_TIPO_ELEICAO            0\n",
       "SG_UE                      0\n",
       "DS_CARGO                   0\n",
       "SQ_CANDIDATO               0\n",
       "NM_CANDIDATO               0\n",
       "DS_SITUACAO_CANDIDATURA    0\n",
       "SG_PARTIDO                 0\n",
       "DS_NACIONALIDADE           0\n",
       "DS_GENERO                  0\n",
       "DS_GRAU_INSTRUCAO          0\n",
       "DS_ESTADO_CIVIL            0\n",
       "DS_COR_RACA                0\n",
       "ANO_ELEICAO                0\n",
       "NM_UE                      0\n",
       "DS_TIPO_BEM_CANDIDATO      0\n",
       "VR_BEM_CANDIDATO           0\n",
       "dtype: int64"
      ]
     },
     "execution_count": 43,
     "metadata": {},
     "output_type": "execute_result"
    }
   ],
   "source": [
    "patrimonioDep.isnull().sum()"
   ]
  },
  {
   "cell_type": "code",
   "execution_count": 44,
   "metadata": {},
   "outputs": [
    {
     "name": "stdout",
     "output_type": "stream",
     "text": [
      "<class 'pandas.core.frame.DataFrame'>\n",
      "Int64Index: 35499 entries, 1 to 39234\n",
      "Data columns (total 16 columns):\n",
      " #   Column                   Non-Null Count  Dtype  \n",
      "---  ------                   --------------  -----  \n",
      " 0   NM_TIPO_ELEICAO          35499 non-null  object \n",
      " 1   SG_UE                    35499 non-null  object \n",
      " 2   DS_CARGO                 35499 non-null  object \n",
      " 3   SQ_CANDIDATO             35499 non-null  int64  \n",
      " 4   NM_CANDIDATO             35499 non-null  object \n",
      " 5   DS_SITUACAO_CANDIDATURA  35499 non-null  object \n",
      " 6   SG_PARTIDO               35499 non-null  object \n",
      " 7   DS_NACIONALIDADE         35499 non-null  object \n",
      " 8   DS_GENERO                35499 non-null  object \n",
      " 9   DS_GRAU_INSTRUCAO        35499 non-null  object \n",
      " 10  DS_ESTADO_CIVIL          35499 non-null  object \n",
      " 11  DS_COR_RACA              35499 non-null  object \n",
      " 12  ANO_ELEICAO              35499 non-null  float64\n",
      " 13  NM_UE                    35499 non-null  object \n",
      " 14  DS_TIPO_BEM_CANDIDATO    35499 non-null  object \n",
      " 15  VR_BEM_CANDIDATO         35499 non-null  object \n",
      "dtypes: float64(1), int64(1), object(14)\n",
      "memory usage: 4.6+ MB\n"
     ]
    }
   ],
   "source": [
    "# Verificando os tipos de dados Contidos em cada uma das colunas do DataFrame\n",
    "patrimonioDep.info()"
   ]
  },
  {
   "cell_type": "code",
   "execution_count": 45,
   "metadata": {},
   "outputs": [],
   "source": [
    "# Tratando a Coluna \"VR_BEM_CANDIDATO\". Transformando o tipo de Dados para Float e trocando a \"virgula\" pelo \"ponto\"\n",
    "patrimonioDep['VR_BEM_CANDIDATO'] = patrimonioDep['VR_BEM_CANDIDATO'].apply(lambda x: float(x.replace(',', '.')))\n",
    "quantidade = 20"
   ]
  },
  {
   "cell_type": "code",
   "execution_count": 46,
   "metadata": {},
   "outputs": [
    {
     "data": {
      "text/plain": [
       "'$ 1.524.886.093,57'"
      ]
     },
     "execution_count": 46,
     "metadata": {},
     "output_type": "execute_result"
    }
   ],
   "source": [
    "total = (patrimonioDep['VR_BEM_CANDIDATO'].sum()) / 5.0\n",
    "f\"$ {total:,.2f}\".replace(',', '_'). replace('.', ','). replace('_', '.')"
   ]
  },
  {
   "cell_type": "code",
   "execution_count": 47,
   "metadata": {},
   "outputs": [
    {
     "data": {
      "text/html": [
       "<div>\n",
       "<style scoped>\n",
       "    .dataframe tbody tr th:only-of-type {\n",
       "        vertical-align: middle;\n",
       "    }\n",
       "\n",
       "    .dataframe tbody tr th {\n",
       "        vertical-align: top;\n",
       "    }\n",
       "\n",
       "    .dataframe thead th {\n",
       "        text-align: right;\n",
       "    }\n",
       "</style>\n",
       "<table border=\"1\" class=\"dataframe\">\n",
       "  <thead>\n",
       "    <tr style=\"text-align: right;\">\n",
       "      <th></th>\n",
       "      <th>NM_CANDIDATO</th>\n",
       "      <th>VR_BEM_CANDIDATO</th>\n",
       "    </tr>\n",
       "  </thead>\n",
       "  <tbody>\n",
       "    <tr>\n",
       "      <th>0</th>\n",
       "      <td>EUNÍCIO LOPES DE OLIVEIRA</td>\n",
       "      <td>R$ 158.184.458,79</td>\n",
       "    </tr>\n",
       "    <tr>\n",
       "      <th>1</th>\n",
       "      <td>RUY ADRIANO BORGES MUNIZ</td>\n",
       "      <td>R$ 158.051.565,55</td>\n",
       "    </tr>\n",
       "    <tr>\n",
       "      <th>2</th>\n",
       "      <td>JOSE GOMES FERREIRA FILHO</td>\n",
       "      <td>R$ 128.639.462,90</td>\n",
       "    </tr>\n",
       "    <tr>\n",
       "      <th>3</th>\n",
       "      <td>JADYEL SILVA ALENCAR</td>\n",
       "      <td>R$ 107.545.780,55</td>\n",
       "    </tr>\n",
       "    <tr>\n",
       "      <th>4</th>\n",
       "      <td>ROBERTO SOARES DA SILVA</td>\n",
       "      <td>R$ 100.100.000,00</td>\n",
       "    </tr>\n",
       "    <tr>\n",
       "      <th>5</th>\n",
       "      <td>ALEX DOS SANTOS GARCIA</td>\n",
       "      <td>R$ 80.009.800,00</td>\n",
       "    </tr>\n",
       "    <tr>\n",
       "      <th>6</th>\n",
       "      <td>ADRIANA MANGABEIRA WANDERLEY</td>\n",
       "      <td>R$ 77.064.788,49</td>\n",
       "    </tr>\n",
       "    <tr>\n",
       "      <th>7</th>\n",
       "      <td>NEWTON BONIN</td>\n",
       "      <td>R$ 76.117.400,00</td>\n",
       "    </tr>\n",
       "    <tr>\n",
       "      <th>8</th>\n",
       "      <td>HERCILIO ARAUJO DINIZ FILHO</td>\n",
       "      <td>R$ 65.903.045,68</td>\n",
       "    </tr>\n",
       "    <tr>\n",
       "      <th>9</th>\n",
       "      <td>PAULO ROBERTO ROQUE ANTONIO KHOURI</td>\n",
       "      <td>R$ 65.291.195,10</td>\n",
       "    </tr>\n",
       "    <tr>\n",
       "      <th>10</th>\n",
       "      <td>SÉRGIO SEBASTIÃO DE BARROS</td>\n",
       "      <td>R$ 63.525.166,36</td>\n",
       "    </tr>\n",
       "    <tr>\n",
       "      <th>11</th>\n",
       "      <td>GLAIDSON ACÁCIO DOS SANTOS</td>\n",
       "      <td>R$ 60.450.000,00</td>\n",
       "    </tr>\n",
       "    <tr>\n",
       "      <th>12</th>\n",
       "      <td>CLAUDIO HENRIQUE BARACK OBAMA DOS ANJOS</td>\n",
       "      <td>R$ 59.311.012,65</td>\n",
       "    </tr>\n",
       "    <tr>\n",
       "      <th>13</th>\n",
       "      <td>DUDA BRITO RAMOS</td>\n",
       "      <td>R$ 50.560.142,40</td>\n",
       "    </tr>\n",
       "    <tr>\n",
       "      <th>14</th>\n",
       "      <td>ARTHUR MARIO PINHEIRO MACHADO</td>\n",
       "      <td>R$ 49.821.285,26</td>\n",
       "    </tr>\n",
       "    <tr>\n",
       "      <th>15</th>\n",
       "      <td>JOSÉ NELTO LAGARES DAS MERCÊZ</td>\n",
       "      <td>R$ 48.492.170,57</td>\n",
       "    </tr>\n",
       "    <tr>\n",
       "      <th>16</th>\n",
       "      <td>DILCEU JOÃO SPERAFICO</td>\n",
       "      <td>R$ 46.435.337,14</td>\n",
       "    </tr>\n",
       "    <tr>\n",
       "      <th>17</th>\n",
       "      <td>MISAEL ARTUR FERREIRA VARELLA</td>\n",
       "      <td>R$ 43.067.558,70</td>\n",
       "    </tr>\n",
       "    <tr>\n",
       "      <th>18</th>\n",
       "      <td>ANTONIO CLAUDEMIR WECK</td>\n",
       "      <td>R$ 39.914.173,80</td>\n",
       "    </tr>\n",
       "    <tr>\n",
       "      <th>19</th>\n",
       "      <td>DALTON BENONI MARTINI</td>\n",
       "      <td>R$ 39.469.582,27</td>\n",
       "    </tr>\n",
       "  </tbody>\n",
       "</table>\n",
       "</div>"
      ],
      "text/plain": [
       "                               NM_CANDIDATO   VR_BEM_CANDIDATO\n",
       "0                 EUNÍCIO LOPES DE OLIVEIRA  R$ 158.184.458,79\n",
       "1                  RUY ADRIANO BORGES MUNIZ  R$ 158.051.565,55\n",
       "2                 JOSE GOMES FERREIRA FILHO  R$ 128.639.462,90\n",
       "3                      JADYEL SILVA ALENCAR  R$ 107.545.780,55\n",
       "4                   ROBERTO SOARES DA SILVA  R$ 100.100.000,00\n",
       "5                    ALEX DOS SANTOS GARCIA   R$ 80.009.800,00\n",
       "6              ADRIANA MANGABEIRA WANDERLEY   R$ 77.064.788,49\n",
       "7                              NEWTON BONIN   R$ 76.117.400,00\n",
       "8               HERCILIO ARAUJO DINIZ FILHO   R$ 65.903.045,68\n",
       "9        PAULO ROBERTO ROQUE ANTONIO KHOURI   R$ 65.291.195,10\n",
       "10               SÉRGIO SEBASTIÃO DE BARROS   R$ 63.525.166,36\n",
       "11               GLAIDSON ACÁCIO DOS SANTOS   R$ 60.450.000,00\n",
       "12  CLAUDIO HENRIQUE BARACK OBAMA DOS ANJOS   R$ 59.311.012,65\n",
       "13                         DUDA BRITO RAMOS   R$ 50.560.142,40\n",
       "14            ARTHUR MARIO PINHEIRO MACHADO   R$ 49.821.285,26\n",
       "15            JOSÉ NELTO LAGARES DAS MERCÊZ   R$ 48.492.170,57\n",
       "16                    DILCEU JOÃO SPERAFICO   R$ 46.435.337,14\n",
       "17            MISAEL ARTUR FERREIRA VARELLA   R$ 43.067.558,70\n",
       "18                   ANTONIO CLAUDEMIR WECK   R$ 39.914.173,80\n",
       "19                    DALTON BENONI MARTINI   R$ 39.469.582,27"
      ]
     },
     "execution_count": 47,
     "metadata": {},
     "output_type": "execute_result"
    }
   ],
   "source": [
    "pd.set_option('display.max_rows', 10000)\n",
    "\n",
    "temp = patrimonioDep.groupby(['NM_CANDIDATO'])['VR_BEM_CANDIDATO'].sum().sort_values(ascending = False).reset_index()\n",
    "temp['VR_BEM_CANDIDATO'] = temp['VR_BEM_CANDIDATO'].apply(lambda x: f'R${x: ,.2f}'.replace(',', '_'). replace('.', ','). replace('_', '.'))\n",
    "\n",
    "temp.head(quantidade)\n"
   ]
  },
  {
   "cell_type": "code",
   "execution_count": 48,
   "metadata": {},
   "outputs": [],
   "source": [
    "nomes = temp['NM_CANDIDATO'].head(quantidade).to_list()"
   ]
  },
  {
   "cell_type": "code",
   "execution_count": 49,
   "metadata": {},
   "outputs": [],
   "source": [
    "geral = deputados.query('NM_CANDIDATO == @nomes')[['NM_CANDIDATO','SG_PARTIDO', 'DS_GENERO','DS_GRAU_INSTRUCAO', 'DS_ESTADO_CIVIL', 'DS_COR_RACA']]"
   ]
  },
  {
   "cell_type": "code",
   "execution_count": 50,
   "metadata": {},
   "outputs": [
    {
     "name": "stdout",
     "output_type": "stream",
     "text": [
      "\n",
      "  DS_COR_RACA  QUANTIDADE\n",
      "0      BRANCA          14\n",
      "1       PARDA           4\n",
      "2       PRETA           2\n",
      "\n"
     ]
    },
    {
     "data": {
      "image/png": "[encoded data removed]",
      "text/plain": [
       "<Figure size 1080x360 with 1 Axes>"
      ]
     },
     "metadata": {},
     "output_type": "display_data"
    }
   ],
   "source": [
    "corRaca = geral.groupby('DS_COR_RACA').size()\n",
    "corRaca= corRaca.reset_index()\n",
    "\n",
    "corRaca.rename(columns={0:'QUANTIDADE'}, inplace = True)\n",
    "\n",
    "imagem = sns.barplot(data = corRaca, x = 'DS_COR_RACA', y = 'QUANTIDADE' )\n",
    "imagem.set_ylabel('PERCENTUAL', fontsize = 12);\n",
    "imagem.set_xlabel('COR_RAÇA')\n",
    "imagem.set_title('COR_RAÇA X CANDIDATOS', fontsize = 25)\n",
    "imagem.figure.set_size_inches(15,5)\n",
    "\n",
    "print()\n",
    "print(corRaca)\n",
    "print()"
   ]
  },
  {
   "cell_type": "code",
   "execution_count": 51,
   "metadata": {},
   "outputs": [
    {
     "name": "stdout",
     "output_type": "stream",
     "text": [
      "\n",
      "             DS_GRAU_INSTRUCAO  QUANTIDADE\n",
      "0            SUPERIOR COMPLETO          15\n",
      "1        ENSINO MÉDIO COMPLETO           2\n",
      "2          SUPERIOR INCOMPLETO           2\n",
      "3  ENSINO FUNDAMENTAL COMPLETO           1\n",
      "\n"
     ]
    },
    {
     "data": {
      "image/png": "[encoded data removed]",
      "text/plain": [
       "<Figure size 1080x360 with 1 Axes>"
      ]
     },
     "metadata": {},
     "output_type": "display_data"
    }
   ],
   "source": [
    "geralIntrucao = geral.groupby('DS_GRAU_INSTRUCAO').size().sort_values(ascending = False)\n",
    "geralIntrucao = geralIntrucao.reset_index()\n",
    "\n",
    "geralIntrucao.rename(columns = {0:'QUANTIDADE'}, inplace = True)\n",
    "\n",
    "imagem = sns.barplot(data = geralIntrucao, x = 'DS_GRAU_INSTRUCAO', y = 'QUANTIDADE' )\n",
    "imagem.set_ylabel('PERCENTUAL', fontsize = 12);\n",
    "imagem.set_xlabel('COR_RAÇA')\n",
    "imagem.set_title('GRAU INSTRUCAO DOS CANDIDATOS', fontsize = 25)\n",
    "imagem.figure.set_size_inches(15,5)\n",
    "\n",
    "print()\n",
    "print(geralIntrucao)\n",
    "print()"
   ]
  },
  {
   "cell_type": "code",
   "execution_count": 52,
   "metadata": {},
   "outputs": [
    {
     "name": "stdout",
     "output_type": "stream",
     "text": [
      "\n",
      "  DS_ESTADO_CIVIL  QUANTIDADE\n",
      "0       CASADO(A)          17\n",
      "1     SOLTEIRO(A)           3\n",
      "\n"
     ]
    },
    {
     "data": {
      "image/png": "[encoded data removed]",
      "text/plain": [
       "<Figure size 1080x360 with 1 Axes>"
      ]
     },
     "metadata": {},
     "output_type": "display_data"
    }
   ],
   "source": [
    "geralEstadoCivil = geral.groupby('DS_ESTADO_CIVIL').size().sort_values(ascending = False)\n",
    "geralEstadoCivil = geralEstadoCivil.reset_index()\n",
    "\n",
    "geralEstadoCivil.rename(columns={0:'QUANTIDADE'}, inplace = True)\n",
    "\n",
    "imagem = sns.barplot(data = geralEstadoCivil, x = 'DS_ESTADO_CIVIL', y = 'QUANTIDADE' )\n",
    "imagem.set_ylabel('QUANTIDADE', fontsize = 12);\n",
    "imagem.set_xlabel('COR_RAÇA')\n",
    "imagem.set_title('ESTADO CIVIL', fontsize = 25)\n",
    "imagem.figure.set_size_inches(15,5)\n",
    "\n",
    "print()\n",
    "print(geralEstadoCivil)\n",
    "print()"
   ]
  },
  {
   "cell_type": "code",
   "execution_count": 53,
   "metadata": {},
   "outputs": [
    {
     "data": {
      "text/plain": [
       "DS_GRAU_INSTRUCAO            DS_ESTADO_CIVIL  DS_COR_RACA  NM_CANDIDATO                             VR_BEM_CANDIDATO \n",
       "ENSINO FUNDAMENTAL COMPLETO  CASADO(A)        PARDA        HERCILIO ARAUJO DINIZ FILHO              R$ 65.903.045,68     1\n",
       "ENSINO MÉDIO COMPLETO        CASADO(A)        BRANCA       DALTON BENONI MARTINI                    R$ 39.469.582,27     1\n",
       "                             SOLTEIRO(A)      BRANCA       ROBERTO SOARES DA SILVA                  R$ 100.100.000,00    1\n",
       "SUPERIOR COMPLETO            CASADO(A)        BRANCA       ALEX DOS SANTOS GARCIA                   R$ 80.009.800,00     1\n",
       "                                                           ANTONIO CLAUDEMIR WECK                   R$ 39.914.173,80     1\n",
       "                                                           ARTHUR MARIO PINHEIRO MACHADO            R$ 49.821.285,26     1\n",
       "                                                           DILCEU JOÃO SPERAFICO                    R$ 46.435.337,14     1\n",
       "                                                           DUDA BRITO RAMOS                         R$ 50.560.142,40     1\n",
       "                                                           JOSE GOMES FERREIRA FILHO                R$ 128.639.462,90    1\n",
       "                                                           JOSÉ NELTO LAGARES DAS MERCÊZ            R$ 48.492.170,57     1\n",
       "                                                           MISAEL ARTUR FERREIRA VARELLA            R$ 43.067.558,70     1\n",
       "                                                           PAULO ROBERTO ROQUE ANTONIO KHOURI       R$ 65.291.195,10     1\n",
       "                                                           RUY ADRIANO BORGES MUNIZ                 R$ 158.051.565,55    1\n",
       "                                              PARDA        EUNÍCIO LOPES DE OLIVEIRA                R$ 158.184.458,79    1\n",
       "                                                           SÉRGIO SEBASTIÃO DE BARROS               R$ 63.525.166,36     1\n",
       "                                              PRETA        CLAUDIO HENRIQUE BARACK OBAMA DOS ANJOS  R$ 59.311.012,65     1\n",
       "                                                           GLAIDSON ACÁCIO DOS SANTOS               R$ 60.450.000,00     1\n",
       "                             SOLTEIRO(A)      BRANCA       ADRIANA MANGABEIRA WANDERLEY             R$ 77.064.788,49     1\n",
       "SUPERIOR INCOMPLETO          CASADO(A)        BRANCA       NEWTON BONIN                             R$ 76.117.400,00     1\n",
       "                             SOLTEIRO(A)      PARDA        JADYEL SILVA ALENCAR                     R$ 107.545.780,55    1\n",
       "dtype: int64"
      ]
     },
     "execution_count": 53,
     "metadata": {},
     "output_type": "execute_result"
    }
   ],
   "source": [
    "resumo = geral.groupby(['DS_GRAU_INSTRUCAO', 'DS_ESTADO_CIVIL', 'DS_COR_RACA', 'NM_CANDIDATO']).size()\n",
    "reusmo = resumo.reset_index()\n",
    "tempResumo = reusmo.rename(columns = {0:'QUANTIDADE'})\n",
    "\n",
    "finalDeputados = tempResumo.merge(temp, how = 'left')\n",
    "\n",
    "finalDeputados.groupby(['DS_GRAU_INSTRUCAO', 'DS_ESTADO_CIVIL', 'DS_COR_RACA', 'NM_CANDIDATO', 'VR_BEM_CANDIDATO']).size()\n"
   ]
  },
  {
   "cell_type": "markdown",
   "metadata": {},
   "source": [
    "---"
   ]
  },
  {
   "cell_type": "markdown",
   "metadata": {},
   "source": [
    "## 5.0.**ESPECTRO**"
   ]
  },
  {
   "cell_type": "markdown",
   "metadata": {},
   "source": [
    ">Link do arquivo com [espectros](https://pt.wikipedia.org/wiki/Posicionamentos_dos_partidos_brasileiros)"
   ]
  },
  {
   "cell_type": "code",
   "execution_count": 54,
   "metadata": {},
   "outputs": [],
   "source": [
    "espectro = pd.read_csv('espectro.csv')\n",
    "espectro['SG_PARTIDO'] = espectro['Partido '].apply(lambda x: x.split(\"(\")[1].split(\")\")[0])\n",
    "lado = deputados.merge(espectro, how = 'left')"
   ]
  },
  {
   "cell_type": "code",
   "execution_count": 55,
   "metadata": {},
   "outputs": [
    {
     "name": "stdout",
     "output_type": "stream",
     "text": [
      "\n",
      "             index  Espectro  Percentual\n",
      "0           Centro      2980       30.45\n",
      "1   Centro-direita      2694       27.52\n",
      "2          Direita      2099       21.44\n",
      "3  Centro-esquerda      1185       12.11\n",
      "4         Esquerda       830        8.48\n",
      "\n"
     ]
    },
    {
     "data": {
      "image/png": "[encoded data removed]",
      "text/plain": [
       "<Figure size 1080x360 with 1 Axes>"
      ]
     },
     "metadata": {},
     "output_type": "display_data"
    }
   ],
   "source": [
    "ladoTemp = lado['Espectro'].value_counts()\n",
    "ladoTemp = ladoTemp.reset_index()\n",
    "ladoTemp['Percentual'] = round((ladoTemp['Espectro'] / ladoTemp['Espectro'].sum()) * 100,2)\n",
    "\n",
    "\n",
    "imagem = sns.barplot(data = ladoTemp, x = 'index', y = 'Espectro' )\n",
    "imagem.set_ylabel('QUANTIDADE', fontsize = 12);\n",
    "imagem.set_xlabel('ESPECTRO')\n",
    "imagem.set_title('ESPECTRO PARTIDOS', fontsize = 25)\n",
    "imagem.figure.set_size_inches(15,5)\n",
    "\n",
    "print()\n",
    "print(ladoTemp)\n",
    "print()"
   ]
  },
  {
   "cell_type": "markdown",
   "metadata": {},
   "source": [
    "# 6.0.**CONCLUSÃO**\n",
    "\n",
    "O que podemos observar é que a grande maioria dos candidatos é de cor branca, possui curso superior e é casada. \n",
    "\n",
    "Chama atenção a pequena quantidade de pessoas negras e indígenas com formação superior."
   ]
  },
  {
   "cell_type": "code",
   "execution_count": null,
   "metadata": {},
   "outputs": [],
   "source": []
  },
  {
   "cell_type": "code",
   "execution_count": null,
   "metadata": {},
   "outputs": [],
   "source": []
  }
 ],
 "metadata": {
  "kernelspec": {
   "display_name": "Python 3.9.7 ('base')",
   "language": "python",
   "name": "python3"
  },
  "language_info": {
   "codemirror_mode": {
    "name": "ipython",
    "version": 3
   },
   "file_extension": ".py",
   "mimetype": "text/x-python",
   "name": "python",
   "nbconvert_exporter": "python",
   "pygments_lexer": "ipython3",
   "version": "3.9.7"
  },
  "orig_nbformat": 4,
  "vscode": {
   "interpreter": {
    "hash": "51166b0016d98ce2a19c197fe17fa45ef0006c1c01f1d4e1a0c837f841793b9a"
   }
  }
 },
 "nbformat": 4,
 "nbformat_minor": 2
}
